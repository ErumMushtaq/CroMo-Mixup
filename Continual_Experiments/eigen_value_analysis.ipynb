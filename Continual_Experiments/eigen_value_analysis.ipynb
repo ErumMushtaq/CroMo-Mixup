{
 "cells": [
  {
   "cell_type": "code",
   "execution_count": 23,
   "metadata": {},
   "outputs": [],
   "source": [
    "import os\n",
    "import sys\n",
    "import wandb\n",
    "import argparse\n",
    "import numpy as np\n",
    "\n",
    "\n",
    "sys.path.insert(0, os.path.abspath(os.path.join(os.getcwd(), \"../\")))\n",
    "sys.path.insert(0, os.path.abspath(os.path.join(os.getcwd(), \"\")))\n",
    "import torch\n",
    "import torchvision.transforms as T\n",
    "import torchvision\n",
    "\n",
    "from dataloaders.dataloader_cifar10 import get_cifar10\n",
    "from dataloaders.dataloader_cifar100 import get_cifar100\n",
    "from utils.eval_metrics import linear_evaluation\n",
    "from models.linear_classifer import LinearClassifier\n",
    "from models.ssl import  SimSiam, Siamese, Encoder, Predictor\n",
    "\n",
    "import random\n",
    "from utils.lr_schedulers import LinearWarmupCosineAnnealingLR, SimSiamScheduler\n",
    "from utils.eval_metrics import Knn_Validation_cont\n",
    "from copy import deepcopy\n",
    "from loss import invariance_loss,CovarianceLoss,ErrorCovarianceLoss\n",
    "import torch.nn as nn\n",
    "import torch.nn.functional as F\n",
    "from sklearn.decomposition import PCA\n",
    "import matplotlib.pyplot as plt\n",
    "\n",
    "os.environ[\"CUDA_DEVICE_ORDER\"] = \"PCI_BUS_ID\"\n",
    "os.environ[\"CUDA_VISIBLE_DEVICES\"] = \"0,1,2,3,4,5,6,7\""
   ]
  },
  {
   "cell_type": "code",
   "execution_count": 24,
   "metadata": {},
   "outputs": [],
   "source": [
    "class GaussianBlur(object):\n",
    "    \"\"\"Gaussian blur augmentation in SimCLR https://arxiv.org/abs/2002.05709\"\"\"\n",
    "\n",
    "    def __init__(self, sigma=[0.1, 2.0]):\n",
    "        self.sigma = sigma\n",
    "\n",
    "    def __call__(self, x):\n",
    "        sigma = random.uniform(self.sigma[0], self.sigma[1])\n",
    "        x = torchvision.transforms.functional.gaussian_blur(x,kernel_size=[3,3],sigma=sigma)#kernel size and sigma are open problems but right now seems ok!\n",
    "        return x\n"
   ]
  },
  {
   "cell_type": "code",
   "execution_count": 25,
   "metadata": {},
   "outputs": [],
   "source": [
    "class Args():\n",
    "    normalization = 'batch'\n",
    "    weight_standard = False\n",
    "    same_lr = True\n",
    "    pretrain_batch_size = 512\n",
    "    pretrain_warmup_epochs = 10\n",
    "    pretrain_warmup_lr = 3e-3\n",
    "    pretrain_base_lr = 0.03\n",
    "    pretrain_momentum = 0.9\n",
    "    pretrain_weight_decay = 5e-4\n",
    "    min_lr = 0.00\n",
    "    lambdap = 1.0\n",
    "    appr = 'barlow_cassle'\n",
    "    knn_report_freq = 10\n",
    "    cuda_device = 4\n",
    "    num_workers = 8\n",
    "    contrastive_ratio = 0.001\n",
    "    dataset = 'cifar100'\n",
    "    class_split = [20,20,20,20,20]\n",
    "    epochs = [500,500,500,500,500]\n",
    "    cov_loss_weight = 1.0\n",
    "    sim_loss_weight = 250.0\n",
    "    info_loss = 'invariance'\n",
    "    lambda_norm = 1.0\n",
    "    subspace_rate = 0.99\n",
    "    lambda_param = 5e-3\n",
    "    bsize = 32\n",
    "    msize = 150\n",
    "    proj_hidden = 2048\n",
    "    proj_out = 2048 #infomax 64\n",
    "    pred_hidden = 512\n",
    "    pred_out = 2048\n",
    "\n"
   ]
  },
  {
   "cell_type": "code",
   "execution_count": 26,
   "metadata": {},
   "outputs": [],
   "source": [
    "args = Args()"
   ]
  },
  {
   "cell_type": "code",
   "execution_count": 27,
   "metadata": {},
   "outputs": [],
   "source": [
    "if args.dataset == \"cifar10\":\n",
    "    get_dataloaders = get_cifar10\n",
    "    num_classes=10\n",
    "elif args.dataset == \"cifar100\":\n",
    "    get_dataloaders = get_cifar100\n",
    "    num_classes=100\n",
    "assert sum(args.class_split) == num_classes\n",
    "assert len(args.class_split) == len(args.epochs)"
   ]
  },
  {
   "cell_type": "code",
   "execution_count": 28,
   "metadata": {},
   "outputs": [
    {
     "name": "stdout",
     "output_type": "stream",
     "text": [
      "cuda:4\n"
     ]
    }
   ],
   "source": [
    "num_worker = args.num_workers\n",
    "#device\n",
    "device = torch.device(\"cuda:\" + str(args.cuda_device) if torch.cuda.is_available() else \"cpu\")\n",
    "print(device)"
   ]
  },
  {
   "cell_type": "code",
   "execution_count": 29,
   "metadata": {},
   "outputs": [
    {
     "data": {
      "text/plain": []
     },
     "execution_count": 29,
     "metadata": {},
     "output_type": "execute_result"
    }
   ],
   "source": [
    "#wandb init\n",
    "wandb.init(project=\"CSSL\",  entity=\"yavuz-team\",\n",
    "            mode=\"disabled\",\n",
    "            config=args,\n",
    "            name= str(args.dataset) + '-algo' + str(args.appr) + \"-e\" + str(args.epochs) + \"-b\" \n",
    "            + str(args.pretrain_batch_size) + \"-lr\" + str(args.pretrain_base_lr)+\"-CS\"+str(args.class_split))"
   ]
  },
  {
   "cell_type": "code",
   "execution_count": 30,
   "metadata": {},
   "outputs": [],
   "source": [
    "if 'infomax' in args.appr or 'barlow' in args.appr:\n",
    "    transform = T.Compose([\n",
    "            T.RandomResizedCrop(size=32, scale=(0.2, 1.0)),\n",
    "            T.RandomHorizontalFlip(),\n",
    "            T.RandomApply(torch.nn.ModuleList([T.ColorJitter(brightness=0.4, contrast=0.4, saturation=0.4, hue=0.1)]), p=0.8),\n",
    "            T.RandomGrayscale(p=0.2),\n",
    "            T.RandomApply([GaussianBlur()], p=0.5), \n",
    "            T.Normalize(mean=[0.4914, 0.4822, 0.4465], std=[0.247, 0.243, 0.261])])\n",
    "\n",
    "    transform_prime = T.Compose([\n",
    "            T.RandomResizedCrop(size=32, scale=(0.2, 1.0)),\n",
    "            T.RandomHorizontalFlip(),\n",
    "            T.RandomApply(torch.nn.ModuleList([T.ColorJitter(brightness=0.4, contrast=0.4, saturation=0.4, hue=0.1)]), p=0.8),\n",
    "            T.RandomGrayscale(p=0.2),\n",
    "            T.RandomApply([GaussianBlur()], p=0.5), \n",
    "            T.Normalize(mean=[0.4914, 0.4822, 0.4465], std=[0.247, 0.243, 0.261])])"
   ]
  },
  {
   "cell_type": "code",
   "execution_count": 31,
   "metadata": {},
   "outputs": [
    {
     "name": "stdout",
     "output_type": "stream",
     "text": [
      "Creating Dataloaders..\n",
      "Files already downloaded and verified\n",
      "Files already downloaded and verified\n",
      "Files already downloaded and verified\n",
      "Files already downloaded and verified\n"
     ]
    }
   ],
   "source": [
    "#Dataloaders\n",
    "print(\"Creating Dataloaders..\")\n",
    "#Class Based\n",
    "train_data_loaders, train_data_loaders_knn, test_data_loaders, _, train_data_loaders_linear, train_data_loaders_pure  = get_dataloaders(transform, transform_prime, \\\n",
    "                                    classes=args.class_split, valid_rate = 0.00, batch_size=args.pretrain_batch_size, seed = 0, num_worker= num_worker)\n",
    "_, train_data_loaders_knn_all, test_data_loaders_all, _, train_data_loaders_linear_all, train_data_loaders_pure_all = get_dataloaders(transform, transform_prime, \\\n",
    "                                        classes=[num_classes], valid_rate = 0.00, batch_size=args.pretrain_batch_size, seed = 0, num_worker= num_worker)\n"
   ]
  },
  {
   "cell_type": "code",
   "execution_count": 32,
   "metadata": {},
   "outputs": [
    {
     "name": "stdout",
     "output_type": "stream",
     "text": [
      "cuda:4\n"
     ]
    }
   ],
   "source": [
    "device = torch.device(\"cuda:\" + str(args.cuda_device) if torch.cuda.is_available() else \"cpu\")\n",
    "print(device)\n",
    "if 'infomax' in args.appr or 'barlow' in args.appr:\n",
    "    proj_hidden = args.proj_hidden\n",
    "    proj_out = args.proj_out\n",
    "    encoder = Encoder(hidden_dim=proj_hidden, output_dim=proj_out, normalization = args.normalization, weight_standard = args.weight_standard,appr_name =args.appr)\n",
    "    model = Siamese(encoder)\n",
    "    model.to(device) #automatically detects from model"
   ]
  },
  {
   "cell_type": "code",
   "execution_count": 33,
   "metadata": {},
   "outputs": [],
   "source": [
    "#load model here\n",
    "file_name = 'checkpoints/checkpoint_cifar100-algocassle_barlow-e[500, 500, 500, 500, 500]-b256-lr0.25-CS[20, 20, 20, 20, 20]acc_59.38.pth.tar'\n",
    "dict = torch.load(file_name)"
   ]
  },
  {
   "cell_type": "code",
   "execution_count": 34,
   "metadata": {},
   "outputs": [],
   "source": [
    "model.temporal_projector = nn.Sequential(\n",
    "            nn.Linear(args.proj_out, args.proj_hidden, bias=False),\n",
    "            nn.BatchNorm1d(args.proj_hidden),\n",
    "            nn.ReLU(),\n",
    "            nn.Linear(args.proj_hidden, args.proj_out),\n",
    "        ).to(device)"
   ]
  },
  {
   "cell_type": "code",
   "execution_count": 35,
   "metadata": {},
   "outputs": [
    {
     "data": {
      "text/plain": [
       "<All keys matched successfully>"
      ]
     },
     "execution_count": 35,
     "metadata": {},
     "output_type": "execute_result"
    }
   ],
   "source": [
    "model.load_state_dict(dict['state_dict'])"
   ]
  },
  {
   "cell_type": "code",
   "execution_count": 36,
   "metadata": {},
   "outputs": [],
   "source": [
    "def uniform_loss(x, t=2):\n",
    "    return torch.pdist(x, p=2).pow(2).mul(-t).exp().mean().log()"
   ]
  },
  {
   "cell_type": "code",
   "execution_count": 37,
   "metadata": {},
   "outputs": [],
   "source": [
    "#collect activations\n",
    "def collect_activations(model,loader):\n",
    "    activations = []\n",
    "\n",
    "    model.eval()\n",
    "    with torch.no_grad():\n",
    "        for data_tuple in loader:\n",
    "            data, target = [t.to(device) for t in data_tuple]\n",
    "            # Forward prop of the model with single augmented batch\n",
    "            output = model(data)\n",
    "            activations.append(output.cpu().numpy())\n",
    "\n",
    "    activations = np.concatenate(activations)\n",
    "    return activations\n",
    "\n",
    "def get_eigenspectrum(activations, max_eigvals=2048):\n",
    "    \"\"\"\n",
    "    Given a (n x n) covariance matrix, compute the \n",
    "    eigenspectrum and the coefficient of decay by \n",
    "    fitting to the log-spectrum.\n",
    "    \"\"\"\n",
    "    act_shape = activations.shape\n",
    "    feats = activations.reshape(act_shape[0], -1)\n",
    "\n",
    "    # batchsize x featdim\n",
    "    bsz, feat_dim = feats.shape\n",
    "\n",
    "    centered_ft = feats - feats.mean(axis=0)\n",
    "    pca = PCA(n_components=min(max_eigvals, bsz, feat_dim), svd_solver='full')\n",
    "    pca.fit(centered_ft)\n",
    "    eigenspectrum = pca.explained_variance_ratio_\n",
    "    return eigenspectrum"
   ]
  },
  {
   "cell_type": "code",
   "execution_count": 38,
   "metadata": {},
   "outputs": [],
   "source": [
    "activations = collect_activations(model, train_data_loaders_knn_all[0])"
   ]
  },
  {
   "cell_type": "code",
   "execution_count": 39,
   "metadata": {},
   "outputs": [
    {
     "data": {
      "text/plain": [
       "tensor(-18.3073)"
      ]
     },
     "execution_count": 39,
     "metadata": {},
     "output_type": "execute_result"
    }
   ],
   "source": [
    "uniform_loss(torch.tensor(activations))"
   ]
  },
  {
   "cell_type": "code",
   "execution_count": 40,
   "metadata": {},
   "outputs": [],
   "source": [
    "#load model here\n",
    "file_name = 'checkpoints/checkpoint_cifar100-algobasic_barlow-e[1000]-b256-lr0.3-CS[100]acc_69.65.pth.tar'\n",
    "dict = torch.load(file_name, map_location='cpu')"
   ]
  },
  {
   "cell_type": "code",
   "execution_count": 41,
   "metadata": {},
   "outputs": [
    {
     "name": "stdout",
     "output_type": "stream",
     "text": [
      "cuda:4\n"
     ]
    }
   ],
   "source": [
    "device = torch.device(\"cuda:\" + str(args.cuda_device) if torch.cuda.is_available() else \"cpu\")\n",
    "print(device)\n",
    "if 'infomax' in args.appr or 'barlow' in args.appr:\n",
    "    proj_hidden = args.proj_hidden\n",
    "    proj_out = args.proj_out\n",
    "    encoder = Encoder(hidden_dim=proj_hidden, output_dim=proj_out, normalization = args.normalization, weight_standard = args.weight_standard,appr_name =args.appr)\n",
    "    model_offline = Siamese(encoder)\n",
    "    model_offline.to(device) #automatically detects from model"
   ]
  },
  {
   "cell_type": "code",
   "execution_count": 42,
   "metadata": {},
   "outputs": [
    {
     "data": {
      "text/plain": [
       "<All keys matched successfully>"
      ]
     },
     "execution_count": 42,
     "metadata": {},
     "output_type": "execute_result"
    }
   ],
   "source": [
    "model_offline.load_state_dict(dict['state_dict'])"
   ]
  },
  {
   "cell_type": "code",
   "execution_count": 43,
   "metadata": {},
   "outputs": [],
   "source": [
    "activations_offline = collect_activations(model_offline, train_data_loaders_knn_all[0])"
   ]
  },
  {
   "cell_type": "code",
   "execution_count": 44,
   "metadata": {},
   "outputs": [
    {
     "data": {
      "text/plain": [
       "tensor(-18.3022)"
      ]
     },
     "execution_count": 44,
     "metadata": {},
     "output_type": "execute_result"
    }
   ],
   "source": [
    "uniform_loss(torch.tensor(activations_offline))"
   ]
  },
  {
   "cell_type": "code",
   "execution_count": 59,
   "metadata": {},
   "outputs": [],
   "source": [
    "#load model here\n",
    "file_name = 'checkpoints/checkpoint_cifar100-algoLRD_barlow-e[500, 500, 500, 500, 500]-b256-lr0.1-CS[20, 20, 20, 20, 20]acc_58.13.pth.tar'\n",
    "dict = torch.load(file_name, map_location='cpu')"
   ]
  },
  {
   "cell_type": "code",
   "execution_count": 60,
   "metadata": {},
   "outputs": [
    {
     "name": "stdout",
     "output_type": "stream",
     "text": [
      "cuda:4\n"
     ]
    }
   ],
   "source": [
    "device = torch.device(\"cuda:\" + str(args.cuda_device) if torch.cuda.is_available() else \"cpu\")\n",
    "print(device)\n",
    "if 'infomax' in args.appr or 'barlow' in args.appr:\n",
    "    proj_hidden = args.proj_hidden\n",
    "    proj_out = args.proj_out\n",
    "    encoder = Encoder(hidden_dim=proj_hidden, output_dim=proj_out, normalization = args.normalization, weight_standard = args.weight_standard,appr_name =args.appr)\n",
    "    model_lrd = Siamese(encoder)\n",
    "    model_lrd.to(device) #automatically detects from model"
   ]
  },
  {
   "cell_type": "code",
   "execution_count": 61,
   "metadata": {},
   "outputs": [],
   "source": [
    "activations_lrd = collect_activations(model_lrd, train_data_loaders_knn_all[0])"
   ]
  },
  {
   "cell_type": "code",
   "execution_count": 62,
   "metadata": {},
   "outputs": [
    {
     "data": {
      "text/plain": [
       "<matplotlib.legend.Legend at 0x7fe27d572b10>"
      ]
     },
     "execution_count": 62,
     "metadata": {},
     "output_type": "execute_result"
    },
    {
     "data": {
      "image/png": "[encoded data removed]",
      "text/plain": [
       "<Figure size 640x480 with 1 Axes>"
      ]
     },
     "metadata": {},
     "output_type": "display_data"
    }
   ],
   "source": [
    "eigenspectrum_lrd = get_eigenspectrum(activations_lrd)\n",
    "plt.loglog(eigenspectrum_lrd, label='lrd')\n",
    "\n",
    "eigenspectrum_offline = get_eigenspectrum(activations_offline)\n",
    "plt.loglog(eigenspectrum_offline,label='offline')\n",
    "\n",
    "eigenspectrum = get_eigenspectrum(activations)\n",
    "plt.loglog(eigenspectrum,label='cassle')\n",
    "plt.legend()"
   ]
  },
  {
   "cell_type": "code",
   "execution_count": 16,
   "metadata": {},
   "outputs": [
    {
     "name": "stderr",
     "output_type": "stream",
     "text": [
      "Lin.Train Epoch: [1] Loss: 2.9833 ACC: 36.82: 100%|██████████| 196/196 [00:10<00:00, 18.72it/s]\n",
      "Lin.Test Epoch: [1] Loss: 2.4023 ACC@1: 45.95% ACC@5: 76.18% : 100%|██████████| 20/20 [00:02<00:00,  6.81it/s]\n",
      "Lin.Train Epoch: [2] Loss: 2.8101 ACC: 42.30: 100%|██████████| 196/196 [00:11<00:00, 17.76it/s]\n",
      "Lin.Test Epoch: [2] Loss: 2.2977 ACC@1: 48.74% ACC@5: 77.88% : 100%|██████████| 20/20 [00:02<00:00,  6.82it/s]\n",
      "Lin.Train Epoch: [3] Loss: 2.7213 ACC: 44.76: 100%|██████████| 196/196 [00:11<00:00, 17.72it/s]\n",
      "Lin.Test Epoch: [3] Loss: 2.2973 ACC@1: 49.20% ACC@5: 77.95% : 100%|██████████| 20/20 [00:02<00:00,  7.15it/s]\n",
      "Lin.Train Epoch: [4] Loss: 2.7831 ACC: 44.33: 100%|██████████| 196/196 [00:11<00:00, 16.77it/s]\n",
      "Lin.Test Epoch: [4] Loss: 2.3700 ACC@1: 49.39% ACC@5: 77.94% : 100%|██████████| 20/20 [00:03<00:00,  6.16it/s]\n",
      "Lin.Train Epoch: [5] Loss: 2.7106 ACC: 45.39: 100%|██████████| 196/196 [00:09<00:00, 21.73it/s]\n",
      "Lin.Test Epoch: [5] Loss: 2.3429 ACC@1: 49.79% ACC@5: 78.90% : 100%|██████████| 20/20 [00:02<00:00,  6.74it/s]\n",
      "Lin.Train Epoch: [6] Loss: 2.7577 ACC: 45.50: 100%|██████████| 196/196 [00:11<00:00, 17.78it/s]\n",
      "Lin.Test Epoch: [6] Loss: 2.4320 ACC@1: 49.14% ACC@5: 78.18% : 100%|██████████| 20/20 [00:03<00:00,  6.66it/s]\n",
      "Lin.Train Epoch: [7] Loss: 2.7102 ACC: 46.11: 100%|██████████| 196/196 [00:11<00:00, 17.64it/s]\n",
      "Lin.Test Epoch: [7] Loss: 2.5062 ACC@1: 48.13% ACC@5: 77.60% : 100%|██████████| 20/20 [00:02<00:00,  7.01it/s]\n",
      "Lin.Train Epoch: [8] Loss: 2.7572 ACC: 45.83: 100%|██████████| 196/196 [00:09<00:00, 19.73it/s]\n",
      "Lin.Test Epoch: [8] Loss: 2.3858 ACC@1: 49.72% ACC@5: 78.34% : 100%|██████████| 20/20 [00:02<00:00,  6.89it/s]\n",
      "Lin.Train Epoch: [9] Loss: 2.7448 ACC: 46.05: 100%|██████████| 196/196 [00:11<00:00, 17.62it/s]\n",
      "Lin.Test Epoch: [9] Loss: 2.3461 ACC@1: 50.57% ACC@5: 78.77% : 100%|██████████| 20/20 [00:02<00:00,  6.74it/s]\n",
      "Lin.Train Epoch: [10] Loss: 2.7319 ACC: 46.06: 100%|██████████| 196/196 [00:11<00:00, 17.58it/s]\n",
      "Lin.Test Epoch: [10] Loss: 2.2613 ACC@1: 51.40% ACC@5: 79.59% : 100%|██████████| 20/20 [00:02<00:00,  6.77it/s]\n",
      "Lin.Train Epoch: [11] Loss: 2.7342 ACC: 46.75: 100%|██████████| 196/196 [00:10<00:00, 19.40it/s]\n",
      "Lin.Test Epoch: [11] Loss: 2.4031 ACC@1: 50.30% ACC@5: 78.61% : 100%|██████████| 20/20 [00:02<00:00,  6.86it/s]\n",
      "Lin.Train Epoch: [12] Loss: 2.7293 ACC: 46.62: 100%|██████████| 196/196 [00:11<00:00, 17.46it/s]\n",
      "Lin.Test Epoch: [12] Loss: 2.4138 ACC@1: 49.54% ACC@5: 79.10% : 100%|██████████| 20/20 [00:02<00:00,  6.68it/s]\n",
      "Lin.Train Epoch: [13] Loss: 2.7500 ACC: 46.33: 100%|██████████| 196/196 [00:11<00:00, 17.75it/s]\n",
      "Lin.Test Epoch: [13] Loss: 2.4506 ACC@1: 49.37% ACC@5: 78.72% : 100%|██████████| 20/20 [00:03<00:00,  6.66it/s]\n",
      "Lin.Train Epoch: [14] Loss: 2.7223 ACC: 46.71: 100%|██████████| 196/196 [00:10<00:00, 19.32it/s]\n",
      "Lin.Test Epoch: [14] Loss: 2.4516 ACC@1: 49.59% ACC@5: 78.30% : 100%|██████████| 20/20 [00:02<00:00,  6.80it/s]\n",
      "Lin.Train Epoch: [15] Loss: 2.7358 ACC: 46.90: 100%|██████████| 196/196 [00:11<00:00, 17.47it/s]\n",
      "Lin.Test Epoch: [15] Loss: 2.3926 ACC@1: 50.26% ACC@5: 79.08% : 100%|██████████| 20/20 [00:02<00:00,  6.99it/s]\n",
      "Lin.Train Epoch: [16] Loss: 2.7044 ACC: 47.10: 100%|██████████| 196/196 [00:11<00:00, 17.61it/s]\n",
      "Lin.Test Epoch: [16] Loss: 2.3963 ACC@1: 49.80% ACC@5: 78.52% : 100%|██████████| 20/20 [00:02<00:00,  7.84it/s]\n",
      "Lin.Train Epoch: [17] Loss: 2.7453 ACC: 47.00: 100%|██████████| 196/196 [00:10<00:00, 17.96it/s]\n",
      "Lin.Test Epoch: [17] Loss: 2.3669 ACC@1: 50.56% ACC@5: 79.25% : 100%|██████████| 20/20 [00:02<00:00,  6.94it/s]\n",
      "Lin.Train Epoch: [18] Loss: 2.7203 ACC: 47.37: 100%|██████████| 196/196 [00:10<00:00, 17.83it/s]\n",
      "Lin.Test Epoch: [18] Loss: 2.3480 ACC@1: 50.90% ACC@5: 79.27% : 100%|██████████| 20/20 [00:02<00:00,  6.77it/s]\n",
      "Lin.Train Epoch: [19] Loss: 2.7446 ACC: 46.78: 100%|██████████| 196/196 [00:11<00:00, 17.63it/s]\n",
      "Lin.Test Epoch: [19] Loss: 2.4128 ACC@1: 49.80% ACC@5: 78.34% : 100%|██████████| 20/20 [00:02<00:00,  8.32it/s]\n",
      "Lin.Train Epoch: [20] Loss: 2.7459 ACC: 47.11: 100%|██████████| 196/196 [00:11<00:00, 17.64it/s]\n",
      "Lin.Test Epoch: [20] Loss: 2.2739 ACC@1: 51.13% ACC@5: 79.74% : 100%|██████████| 20/20 [00:02<00:00,  6.71it/s]\n",
      "Lin.Train Epoch: [21] Loss: 2.6917 ACC: 47.20: 100%|██████████| 196/196 [00:11<00:00, 17.51it/s]\n",
      "Lin.Test Epoch: [21] Loss: 2.4229 ACC@1: 49.72% ACC@5: 79.39% : 100%|██████████| 20/20 [00:03<00:00,  6.51it/s]\n",
      "Lin.Train Epoch: [22] Loss: 2.6813 ACC: 47.45: 100%|██████████| 196/196 [00:10<00:00, 18.99it/s]\n",
      "Lin.Test Epoch: [22] Loss: 2.3800 ACC@1: 50.12% ACC@5: 78.87% : 100%|██████████| 20/20 [00:02<00:00,  6.67it/s]\n",
      "Lin.Train Epoch: [23] Loss: 2.7300 ACC: 47.01: 100%|██████████| 196/196 [00:11<00:00, 17.38it/s]\n",
      "Lin.Test Epoch: [23] Loss: 2.3751 ACC@1: 50.43% ACC@5: 79.77% : 100%|██████████| 20/20 [00:02<00:00,  6.92it/s]\n",
      "Lin.Train Epoch: [24] Loss: 2.6969 ACC: 47.23: 100%|██████████| 196/196 [00:11<00:00, 17.61it/s]\n",
      "Lin.Test Epoch: [24] Loss: 2.3720 ACC@1: 50.50% ACC@5: 79.01% : 100%|██████████| 20/20 [00:03<00:00,  6.44it/s]\n",
      "Lin.Train Epoch: [25] Loss: 2.6520 ACC: 47.52: 100%|██████████| 196/196 [00:10<00:00, 19.25it/s]\n",
      "Lin.Test Epoch: [25] Loss: 2.3208 ACC@1: 51.09% ACC@5: 79.66% : 100%|██████████| 20/20 [00:03<00:00,  6.52it/s]\n",
      "Lin.Train Epoch: [26] Loss: 2.6922 ACC: 47.42: 100%|██████████| 196/196 [00:11<00:00, 17.43it/s]\n",
      "Lin.Test Epoch: [26] Loss: 2.4571 ACC@1: 49.74% ACC@5: 78.25% : 100%|██████████| 20/20 [00:02<00:00,  6.89it/s]\n",
      "Lin.Train Epoch: [27] Loss: 2.6705 ACC: 47.51: 100%|██████████| 196/196 [00:10<00:00, 17.84it/s]\n",
      "Lin.Test Epoch: [27] Loss: 2.3665 ACC@1: 49.73% ACC@5: 79.34% : 100%|██████████| 20/20 [00:02<00:00,  6.77it/s]\n",
      "Lin.Train Epoch: [28] Loss: 2.6471 ACC: 47.53: 100%|██████████| 196/196 [00:09<00:00, 19.63it/s]\n",
      "Lin.Test Epoch: [28] Loss: 2.4398 ACC@1: 50.44% ACC@5: 78.84% : 100%|██████████| 20/20 [00:02<00:00,  6.88it/s]\n",
      "Lin.Train Epoch: [29] Loss: 2.6351 ACC: 47.64: 100%|██████████| 196/196 [00:11<00:00, 17.68it/s]\n",
      "Lin.Test Epoch: [29] Loss: 2.3107 ACC@1: 50.88% ACC@5: 79.47% : 100%|██████████| 20/20 [00:02<00:00,  6.72it/s]\n",
      "Lin.Train Epoch: [30] Loss: 2.6694 ACC: 47.37: 100%|██████████| 196/196 [00:11<00:00, 17.49it/s]\n",
      "Lin.Test Epoch: [30] Loss: 2.4577 ACC@1: 49.43% ACC@5: 78.33% : 100%|██████████| 20/20 [00:02<00:00,  7.40it/s]\n",
      "Lin.Train Epoch: [31] Loss: 2.6108 ACC: 47.82: 100%|██████████| 196/196 [00:10<00:00, 17.95it/s]\n",
      "Lin.Test Epoch: [31] Loss: 2.4278 ACC@1: 50.04% ACC@5: 78.37% : 100%|██████████| 20/20 [00:03<00:00,  6.59it/s]\n",
      "Lin.Train Epoch: [32] Loss: 2.6678 ACC: 47.66: 100%|██████████| 196/196 [00:11<00:00, 17.16it/s]\n",
      "Lin.Test Epoch: [32] Loss: 2.3351 ACC@1: 51.13% ACC@5: 79.30% : 100%|██████████| 20/20 [00:03<00:00,  6.54it/s]\n",
      "Lin.Train Epoch: [33] Loss: 2.6569 ACC: 47.60: 100%|██████████| 196/196 [00:10<00:00, 18.10it/s]\n",
      "Lin.Test Epoch: [33] Loss: 2.3926 ACC@1: 49.97% ACC@5: 79.04% : 100%|██████████| 20/20 [00:02<00:00,  6.68it/s]\n",
      "Lin.Train Epoch: [34] Loss: 2.6176 ACC: 47.95: 100%|██████████| 196/196 [00:12<00:00, 16.01it/s]\n",
      "Lin.Test Epoch: [34] Loss: 2.3688 ACC@1: 50.19% ACC@5: 78.96% : 100%|██████████| 20/20 [00:02<00:00,  8.06it/s]\n",
      "Lin.Train Epoch: [35] Loss: 2.6431 ACC: 47.45: 100%|██████████| 196/196 [00:09<00:00, 20.04it/s]\n",
      "Lin.Test Epoch: [35] Loss: 2.3520 ACC@1: 50.50% ACC@5: 79.91% : 100%|██████████| 20/20 [00:02<00:00,  6.73it/s]\n",
      "Lin.Train Epoch: [36] Loss: 2.6778 ACC: 47.63: 100%|██████████| 196/196 [00:11<00:00, 17.31it/s]\n",
      "Lin.Test Epoch: [36] Loss: 2.3452 ACC@1: 51.23% ACC@5: 78.61% : 100%|██████████| 20/20 [00:02<00:00,  6.76it/s]\n",
      "Lin.Train Epoch: [37] Loss: 2.5759 ACC: 48.37: 100%|██████████| 196/196 [00:11<00:00, 17.50it/s]\n",
      "Lin.Test Epoch: [37] Loss: 2.4103 ACC@1: 50.76% ACC@5: 78.98% : 100%|██████████| 20/20 [00:03<00:00,  6.51it/s]\n",
      "Lin.Train Epoch: [38] Loss: 2.6003 ACC: 48.12: 100%|██████████| 196/196 [00:10<00:00, 19.45it/s]\n",
      "Lin.Test Epoch: [38] Loss: 2.2751 ACC@1: 51.66% ACC@5: 79.71% : 100%|██████████| 20/20 [00:02<00:00,  6.96it/s]\n",
      "Lin.Train Epoch: [39] Loss: 2.5897 ACC: 48.29: 100%|██████████| 196/196 [00:11<00:00, 17.38it/s]\n",
      "Lin.Test Epoch: [39] Loss: 2.2563 ACC@1: 51.61% ACC@5: 80.53% : 100%|██████████| 20/20 [00:02<00:00,  6.73it/s]\n",
      "Lin.Train Epoch: [40] Loss: 2.6388 ACC: 47.47: 100%|██████████| 196/196 [00:11<00:00, 17.08it/s]\n",
      "Lin.Test Epoch: [40] Loss: 2.3246 ACC@1: 50.84% ACC@5: 79.30% : 100%|██████████| 20/20 [00:02<00:00,  8.05it/s]\n",
      "Lin.Train Epoch: [41] Loss: 2.5586 ACC: 48.58: 100%|██████████| 196/196 [00:11<00:00, 17.46it/s]\n",
      "Lin.Test Epoch: [41] Loss: 2.2040 ACC@1: 51.36% ACC@5: 80.29% : 100%|██████████| 20/20 [00:03<00:00,  6.63it/s]\n",
      "Lin.Train Epoch: [42] Loss: 2.5646 ACC: 47.96: 100%|██████████| 196/196 [00:11<00:00, 17.43it/s]\n",
      "Lin.Test Epoch: [42] Loss: 2.2543 ACC@1: 51.12% ACC@5: 79.91% : 100%|██████████| 20/20 [00:03<00:00,  6.60it/s]\n",
      "Lin.Train Epoch: [43] Loss: 2.5877 ACC: 47.98: 100%|██████████| 196/196 [00:10<00:00, 18.24it/s]\n",
      "Lin.Test Epoch: [43] Loss: 2.3589 ACC@1: 50.55% ACC@5: 78.98% : 100%|██████████| 20/20 [00:02<00:00,  7.65it/s]\n",
      "Lin.Train Epoch: [44] Loss: 2.5744 ACC: 47.99: 100%|██████████| 196/196 [00:11<00:00, 17.65it/s]\n",
      "Lin.Test Epoch: [44] Loss: 2.2331 ACC@1: 52.16% ACC@5: 80.46% : 100%|██████████| 20/20 [00:02<00:00,  7.04it/s]\n",
      "Lin.Train Epoch: [45] Loss: 2.5471 ACC: 48.31: 100%|██████████| 196/196 [00:11<00:00, 17.68it/s]\n",
      "Lin.Test Epoch: [45] Loss: 2.1255 ACC@1: 52.89% ACC@5: 80.59% : 100%|██████████| 20/20 [00:02<00:00,  6.79it/s]\n",
      "Lin.Train Epoch: [46] Loss: 2.5791 ACC: 47.81: 100%|██████████| 196/196 [00:10<00:00, 19.12it/s]\n",
      "Lin.Test Epoch: [46] Loss: 2.3248 ACC@1: 50.85% ACC@5: 79.68% : 100%|██████████| 20/20 [00:02<00:00,  6.84it/s]\n",
      "Lin.Train Epoch: [47] Loss: 2.5142 ACC: 48.47: 100%|██████████| 196/196 [00:11<00:00, 17.78it/s]\n",
      "Lin.Test Epoch: [47] Loss: 2.2590 ACC@1: 51.45% ACC@5: 80.01% : 100%|██████████| 20/20 [00:02<00:00,  7.12it/s]\n",
      "Lin.Train Epoch: [48] Loss: 2.5297 ACC: 48.32: 100%|██████████| 196/196 [00:11<00:00, 17.31it/s]\n",
      "Lin.Test Epoch: [48] Loss: 2.1584 ACC@1: 52.55% ACC@5: 80.44% : 100%|██████████| 20/20 [00:02<00:00,  6.88it/s]\n",
      "Lin.Train Epoch: [49] Loss: 2.5232 ACC: 48.18: 100%|██████████| 196/196 [00:10<00:00, 19.39it/s]\n",
      "Lin.Test Epoch: [49] Loss: 2.2864 ACC@1: 51.40% ACC@5: 79.45% : 100%|██████████| 20/20 [00:02<00:00,  6.92it/s]\n",
      "Lin.Train Epoch: [50] Loss: 2.5126 ACC: 48.43: 100%|██████████| 196/196 [00:11<00:00, 17.62it/s]\n",
      "Lin.Test Epoch: [50] Loss: 2.1953 ACC@1: 51.59% ACC@5: 79.71% : 100%|██████████| 20/20 [00:02<00:00,  6.95it/s]\n",
      "Lin.Train Epoch: [51] Loss: 2.5371 ACC: 48.25: 100%|██████████| 196/196 [00:11<00:00, 17.63it/s]\n",
      "Lin.Test Epoch: [51] Loss: 2.1843 ACC@1: 51.91% ACC@5: 80.06% : 100%|██████████| 20/20 [00:03<00:00,  6.47it/s]\n",
      "Lin.Train Epoch: [52] Loss: 2.4580 ACC: 48.93: 100%|██████████| 196/196 [00:10<00:00, 19.13it/s]\n",
      "Lin.Test Epoch: [52] Loss: 2.2978 ACC@1: 50.63% ACC@5: 79.54% : 100%|██████████| 20/20 [00:03<00:00,  6.46it/s]\n",
      "Lin.Train Epoch: [53] Loss: 2.4981 ACC: 48.32: 100%|██████████| 196/196 [00:11<00:00, 17.51it/s]\n",
      "Lin.Test Epoch: [53] Loss: 2.2408 ACC@1: 51.26% ACC@5: 79.89% : 100%|██████████| 20/20 [00:03<00:00,  6.62it/s]\n",
      "Lin.Train Epoch: [54] Loss: 2.5016 ACC: 48.26: 100%|██████████| 196/196 [00:11<00:00, 17.58it/s]\n",
      "Lin.Test Epoch: [54] Loss: 2.1729 ACC@1: 51.72% ACC@5: 80.16% : 100%|██████████| 20/20 [00:02<00:00,  6.82it/s]\n",
      "Lin.Train Epoch: [55] Loss: 2.4688 ACC: 48.49: 100%|██████████| 196/196 [00:10<00:00, 18.58it/s]\n",
      "Lin.Test Epoch: [55] Loss: 2.2610 ACC@1: 50.67% ACC@5: 79.24% : 100%|██████████| 20/20 [00:02<00:00,  6.92it/s]\n",
      "Lin.Train Epoch: [56] Loss: 2.4452 ACC: 48.70: 100%|██████████| 196/196 [00:11<00:00, 17.74it/s]\n",
      "Lin.Test Epoch: [56] Loss: 2.1427 ACC@1: 51.31% ACC@5: 80.26% : 100%|██████████| 20/20 [00:02<00:00,  6.79it/s]\n",
      "Lin.Train Epoch: [57] Loss: 2.4493 ACC: 48.60: 100%|██████████| 196/196 [00:11<00:00, 17.76it/s]\n",
      "Lin.Test Epoch: [57] Loss: 2.2184 ACC@1: 50.97% ACC@5: 79.77% : 100%|██████████| 20/20 [00:02<00:00,  8.06it/s]\n",
      "Lin.Train Epoch: [58] Loss: 2.4348 ACC: 48.97: 100%|██████████| 196/196 [00:10<00:00, 17.95it/s]\n",
      "Lin.Test Epoch: [58] Loss: 2.1849 ACC@1: 51.92% ACC@5: 79.86% : 100%|██████████| 20/20 [00:02<00:00,  6.85it/s]\n",
      "Lin.Train Epoch: [59] Loss: 2.4279 ACC: 48.94: 100%|██████████| 196/196 [00:11<00:00, 17.47it/s]\n",
      "Lin.Test Epoch: [59] Loss: 2.1105 ACC@1: 51.55% ACC@5: 80.70% : 100%|██████████| 20/20 [00:02<00:00,  7.06it/s]\n",
      "Lin.Train Epoch: [60] Loss: 2.4041 ACC: 48.95: 100%|██████████| 196/196 [00:10<00:00, 17.84it/s]\n",
      "Lin.Test Epoch: [60] Loss: 2.1584 ACC@1: 52.14% ACC@5: 79.81% : 100%|██████████| 20/20 [00:02<00:00,  7.55it/s]\n",
      "Lin.Train Epoch: [61] Loss: 2.4034 ACC: 48.86: 100%|██████████| 196/196 [00:11<00:00, 17.65it/s]\n",
      "Lin.Test Epoch: [61] Loss: 2.1742 ACC@1: 52.12% ACC@5: 80.09% : 100%|██████████| 20/20 [00:02<00:00,  6.88it/s]\n",
      "Lin.Train Epoch: [62] Loss: 2.4057 ACC: 48.69: 100%|██████████| 196/196 [00:11<00:00, 17.67it/s]\n",
      "Lin.Test Epoch: [62] Loss: 2.1605 ACC@1: 51.87% ACC@5: 80.03% : 100%|██████████| 20/20 [00:02<00:00,  6.85it/s]\n",
      "Lin.Train Epoch: [63] Loss: 2.3667 ACC: 49.28: 100%|██████████| 196/196 [00:10<00:00, 18.12it/s]\n",
      "Lin.Test Epoch: [63] Loss: 2.1886 ACC@1: 51.78% ACC@5: 80.23% : 100%|██████████| 20/20 [00:02<00:00,  7.40it/s]\n",
      "Lin.Train Epoch: [64] Loss: 2.4079 ACC: 48.60: 100%|██████████| 196/196 [00:11<00:00, 16.83it/s]\n",
      "Lin.Test Epoch: [64] Loss: 2.2503 ACC@1: 50.87% ACC@5: 79.03% : 100%|██████████| 20/20 [00:02<00:00,  7.56it/s]\n",
      "Lin.Train Epoch: [65] Loss: 2.3686 ACC: 49.14: 100%|██████████| 196/196 [00:09<00:00, 20.24it/s]\n",
      "Lin.Test Epoch: [65] Loss: 2.1948 ACC@1: 50.83% ACC@5: 79.91% : 100%|██████████| 20/20 [00:02<00:00,  6.83it/s]\n",
      "Lin.Train Epoch: [66] Loss: 2.3438 ACC: 49.24: 100%|██████████| 196/196 [00:11<00:00, 17.52it/s]\n",
      "Lin.Test Epoch: [66] Loss: 2.0822 ACC@1: 52.32% ACC@5: 80.87% : 100%|██████████| 20/20 [00:02<00:00,  6.74it/s]\n",
      "Lin.Train Epoch: [67] Loss: 2.3697 ACC: 48.90: 100%|██████████| 196/196 [00:11<00:00, 17.60it/s]\n",
      "Lin.Test Epoch: [67] Loss: 2.1561 ACC@1: 51.66% ACC@5: 80.06% : 100%|██████████| 20/20 [00:02<00:00,  6.90it/s]\n",
      "Lin.Train Epoch: [68] Loss: 2.3412 ACC: 49.09: 100%|██████████| 196/196 [00:10<00:00, 19.59it/s]\n",
      "Lin.Test Epoch: [68] Loss: 2.1771 ACC@1: 51.68% ACC@5: 79.66% : 100%|██████████| 20/20 [00:03<00:00,  6.64it/s]\n",
      "Lin.Train Epoch: [69] Loss: 2.3194 ACC: 49.33: 100%|██████████| 196/196 [00:11<00:00, 17.55it/s]\n",
      "Lin.Test Epoch: [69] Loss: 2.0483 ACC@1: 52.28% ACC@5: 80.63% : 100%|██████████| 20/20 [00:03<00:00,  6.54it/s]\n",
      "Lin.Train Epoch: [70] Loss: 2.3022 ACC: 49.76: 100%|██████████| 196/196 [00:11<00:00, 17.53it/s]\n",
      "Lin.Test Epoch: [70] Loss: 2.0213 ACC@1: 52.94% ACC@5: 80.68% : 100%|██████████| 20/20 [00:02<00:00,  7.87it/s]\n",
      "Lin.Train Epoch: [71] Loss: 2.3052 ACC: 49.54: 100%|██████████| 196/196 [00:11<00:00, 17.78it/s]\n",
      "Lin.Test Epoch: [71] Loss: 2.0428 ACC@1: 52.20% ACC@5: 80.28% : 100%|██████████| 20/20 [00:02<00:00,  7.09it/s]\n",
      "Lin.Train Epoch: [72] Loss: 2.2791 ACC: 49.95: 100%|██████████| 196/196 [00:11<00:00, 17.59it/s]\n",
      "Lin.Test Epoch: [72] Loss: 2.0185 ACC@1: 52.54% ACC@5: 80.91% : 100%|██████████| 20/20 [00:03<00:00,  6.61it/s]\n",
      "Lin.Train Epoch: [73] Loss: 2.2994 ACC: 49.33: 100%|██████████| 196/196 [00:10<00:00, 17.99it/s]\n",
      "Lin.Test Epoch: [73] Loss: 2.0321 ACC@1: 52.32% ACC@5: 80.39% : 100%|██████████| 20/20 [00:02<00:00,  8.40it/s]\n",
      "Lin.Train Epoch: [74] Loss: 2.2649 ACC: 49.79: 100%|██████████| 196/196 [00:11<00:00, 17.25it/s]\n",
      "Lin.Test Epoch: [74] Loss: 1.9891 ACC@1: 52.69% ACC@5: 81.19% : 100%|██████████| 20/20 [00:02<00:00,  6.73it/s]\n",
      "Lin.Train Epoch: [75] Loss: 2.2720 ACC: 49.55: 100%|██████████| 196/196 [00:11<00:00, 17.40it/s]\n",
      "Lin.Test Epoch: [75] Loss: 1.9942 ACC@1: 52.90% ACC@5: 81.17% : 100%|██████████| 20/20 [00:03<00:00,  6.61it/s]\n",
      "Lin.Train Epoch: [76] Loss: 2.2342 ACC: 50.30: 100%|██████████| 196/196 [00:10<00:00, 19.24it/s]\n",
      "Lin.Test Epoch: [76] Loss: 2.0656 ACC@1: 52.19% ACC@5: 80.31% : 100%|██████████| 20/20 [00:03<00:00,  6.59it/s]\n",
      "Lin.Train Epoch: [77] Loss: 2.2484 ACC: 49.47: 100%|██████████| 196/196 [00:10<00:00, 17.82it/s]\n",
      "Lin.Test Epoch: [77] Loss: 1.9506 ACC@1: 53.01% ACC@5: 81.54% : 100%|██████████| 20/20 [00:02<00:00,  7.06it/s]\n",
      "Lin.Train Epoch: [78] Loss: 2.2428 ACC: 49.77: 100%|██████████| 196/196 [00:11<00:00, 17.35it/s]\n",
      "Lin.Test Epoch: [78] Loss: 1.9505 ACC@1: 53.46% ACC@5: 81.30% : 100%|██████████| 20/20 [00:03<00:00,  6.52it/s]\n",
      "Lin.Train Epoch: [79] Loss: 2.2194 ACC: 50.13: 100%|██████████| 196/196 [00:10<00:00, 19.30it/s]\n",
      "Lin.Test Epoch: [79] Loss: 2.0149 ACC@1: 53.17% ACC@5: 80.37% : 100%|██████████| 20/20 [00:02<00:00,  7.20it/s]\n",
      "Lin.Train Epoch: [80] Loss: 2.2154 ACC: 50.08: 100%|██████████| 196/196 [00:11<00:00, 17.68it/s]\n",
      "Lin.Test Epoch: [80] Loss: 1.9864 ACC@1: 52.32% ACC@5: 81.28% : 100%|██████████| 20/20 [00:02<00:00,  6.84it/s]\n",
      "Lin.Train Epoch: [81] Loss: 2.2008 ACC: 50.35: 100%|██████████| 196/196 [00:11<00:00, 17.09it/s]\n",
      "Lin.Test Epoch: [81] Loss: 2.0102 ACC@1: 52.29% ACC@5: 80.81% : 100%|██████████| 20/20 [00:02<00:00,  6.88it/s]\n",
      "Lin.Train Epoch: [82] Loss: 2.1880 ACC: 50.12: 100%|██████████| 196/196 [00:10<00:00, 19.45it/s]\n",
      "Lin.Test Epoch: [82] Loss: 1.9451 ACC@1: 53.01% ACC@5: 81.44% : 100%|██████████| 20/20 [00:02<00:00,  6.81it/s]\n",
      "Lin.Train Epoch: [83] Loss: 2.1742 ACC: 50.51: 100%|██████████| 196/196 [00:11<00:00, 17.34it/s]\n",
      "Lin.Test Epoch: [83] Loss: 1.8739 ACC@1: 54.30% ACC@5: 82.42% : 100%|██████████| 20/20 [00:03<00:00,  6.51it/s]\n",
      "Lin.Train Epoch: [84] Loss: 2.1368 ACC: 50.61: 100%|██████████| 196/196 [00:11<00:00, 17.43it/s]\n",
      "Lin.Test Epoch: [84] Loss: 1.9122 ACC@1: 53.94% ACC@5: 81.22% : 100%|██████████| 20/20 [00:02<00:00,  8.41it/s]\n",
      "Lin.Train Epoch: [85] Loss: 2.1459 ACC: 50.67: 100%|██████████| 196/196 [00:11<00:00, 17.72it/s]\n",
      "Lin.Test Epoch: [85] Loss: 1.9656 ACC@1: 52.66% ACC@5: 81.57% : 100%|██████████| 20/20 [00:03<00:00,  6.57it/s]\n",
      "Lin.Train Epoch: [86] Loss: 2.1803 ACC: 50.38: 100%|██████████| 196/196 [00:11<00:00, 17.28it/s]\n",
      "Lin.Test Epoch: [86] Loss: 1.9278 ACC@1: 53.62% ACC@5: 81.21% : 100%|██████████| 20/20 [00:03<00:00,  6.47it/s]\n",
      "Lin.Train Epoch: [87] Loss: 2.1440 ACC: 50.36: 100%|██████████| 196/196 [00:10<00:00, 18.25it/s]\n",
      "Lin.Test Epoch: [87] Loss: 1.9447 ACC@1: 52.86% ACC@5: 81.51% : 100%|██████████| 20/20 [00:02<00:00,  7.29it/s]\n",
      "Lin.Train Epoch: [88] Loss: 2.1435 ACC: 50.59: 100%|██████████| 196/196 [00:11<00:00, 17.70it/s]\n",
      "Lin.Test Epoch: [88] Loss: 1.9358 ACC@1: 52.85% ACC@5: 81.59% : 100%|██████████| 20/20 [00:02<00:00,  6.75it/s]\n",
      "Lin.Train Epoch: [89] Loss: 2.1315 ACC: 50.55: 100%|██████████| 196/196 [00:11<00:00, 17.48it/s]\n",
      "Lin.Test Epoch: [89] Loss: 1.8923 ACC@1: 53.33% ACC@5: 82.00% : 100%|██████████| 20/20 [00:03<00:00,  6.52it/s]\n",
      "Lin.Train Epoch: [90] Loss: 2.1041 ACC: 50.84: 100%|██████████| 196/196 [00:09<00:00, 19.74it/s]\n",
      "Lin.Test Epoch: [90] Loss: 1.9466 ACC@1: 53.28% ACC@5: 81.52% : 100%|██████████| 20/20 [00:02<00:00,  6.85it/s]\n",
      "Lin.Train Epoch: [91] Loss: 2.0972 ACC: 51.00: 100%|██████████| 196/196 [00:11<00:00, 17.59it/s]\n",
      "Lin.Test Epoch: [91] Loss: 1.8531 ACC@1: 54.72% ACC@5: 82.26% : 100%|██████████| 20/20 [00:02<00:00,  6.76it/s]\n",
      "Lin.Train Epoch: [92] Loss: 2.0931 ACC: 51.04: 100%|██████████| 196/196 [00:11<00:00, 17.27it/s]\n",
      "Lin.Test Epoch: [92] Loss: 1.8674 ACC@1: 54.38% ACC@5: 81.79% : 100%|██████████| 20/20 [00:03<00:00,  6.65it/s]\n",
      "Lin.Train Epoch: [93] Loss: 2.0661 ACC: 51.08: 100%|██████████| 196/196 [00:11<00:00, 16.89it/s]\n",
      "Lin.Test Epoch: [93] Loss: 1.8379 ACC@1: 54.36% ACC@5: 82.61% : 100%|██████████| 20/20 [00:03<00:00,  5.58it/s]\n",
      "Lin.Train Epoch: [94] Loss: 2.0509 ACC: 51.42: 100%|██████████| 196/196 [00:10<00:00, 18.01it/s]\n",
      "Lin.Test Epoch: [94] Loss: 1.8285 ACC@1: 53.55% ACC@5: 82.32% : 100%|██████████| 20/20 [00:02<00:00,  7.45it/s]\n",
      "Lin.Train Epoch: [95] Loss: 2.0464 ACC: 51.38: 100%|██████████| 196/196 [00:10<00:00, 19.07it/s]\n",
      "Lin.Test Epoch: [95] Loss: 1.8655 ACC@1: 53.96% ACC@5: 81.75% : 100%|██████████| 20/20 [00:02<00:00,  6.75it/s]\n",
      "Lin.Train Epoch: [96] Loss: 2.0369 ACC: 51.71: 100%|██████████| 196/196 [00:11<00:00, 17.77it/s]\n",
      "Lin.Test Epoch: [96] Loss: 1.8349 ACC@1: 53.86% ACC@5: 82.53% : 100%|██████████| 20/20 [00:03<00:00,  6.51it/s]\n",
      "Lin.Train Epoch: [97] Loss: 2.0332 ACC: 51.48: 100%|██████████| 196/196 [00:11<00:00, 17.62it/s]\n",
      "Lin.Test Epoch: [97] Loss: 1.8704 ACC@1: 53.93% ACC@5: 81.98% : 100%|██████████| 20/20 [00:02<00:00,  8.02it/s]\n",
      "Lin.Train Epoch: [98] Loss: 2.0363 ACC: 51.83: 100%|██████████| 196/196 [00:10<00:00, 17.93it/s]\n",
      "Lin.Test Epoch: [98] Loss: 1.8278 ACC@1: 54.71% ACC@5: 82.22% : 100%|██████████| 20/20 [00:03<00:00,  6.51it/s]\n",
      "Lin.Train Epoch: [99] Loss: 2.0237 ACC: 51.73: 100%|██████████| 196/196 [00:11<00:00, 17.35it/s]\n",
      "Lin.Test Epoch: [99] Loss: 1.8301 ACC@1: 54.18% ACC@5: 81.97% : 100%|██████████| 20/20 [00:02<00:00,  6.87it/s]\n",
      "Lin.Train Epoch: [100] Loss: 1.9939 ACC: 51.92: 100%|██████████| 196/196 [00:10<00:00, 18.13it/s]\n",
      "Lin.Test Epoch: [100] Loss: 1.8697 ACC@1: 54.24% ACC@5: 82.02% : 100%|██████████| 20/20 [00:02<00:00,  6.96it/s]\n",
      "Lin.Train Epoch: [101] Loss: 1.9915 ACC: 51.80: 100%|██████████| 196/196 [00:11<00:00, 17.59it/s]\n",
      "Lin.Test Epoch: [101] Loss: 1.7901 ACC@1: 54.63% ACC@5: 82.32% : 100%|██████████| 20/20 [00:02<00:00,  7.52it/s]\n",
      "Lin.Train Epoch: [102] Loss: 1.9754 ACC: 52.22: 100%|██████████| 196/196 [00:11<00:00, 17.47it/s]\n",
      "Lin.Test Epoch: [102] Loss: 1.8400 ACC@1: 54.75% ACC@5: 81.70% : 100%|██████████| 20/20 [00:03<00:00,  6.65it/s]\n",
      "Lin.Train Epoch: [103] Loss: 1.9802 ACC: 52.20: 100%|██████████| 196/196 [00:10<00:00, 19.09it/s]\n",
      "Lin.Test Epoch: [103] Loss: 1.7720 ACC@1: 54.82% ACC@5: 82.75% : 100%|██████████| 20/20 [00:03<00:00,  6.60it/s]\n",
      "Lin.Train Epoch: [104] Loss: 1.9602 ACC: 52.34: 100%|██████████| 196/196 [00:11<00:00, 17.72it/s]\n",
      "Lin.Test Epoch: [104] Loss: 1.8108 ACC@1: 54.82% ACC@5: 82.09% : 100%|██████████| 20/20 [00:02<00:00,  6.68it/s]\n",
      "Lin.Train Epoch: [105] Loss: 1.9533 ACC: 52.39: 100%|██████████| 196/196 [00:10<00:00, 17.91it/s]\n",
      "Lin.Test Epoch: [105] Loss: 1.7716 ACC@1: 55.01% ACC@5: 82.70% : 100%|██████████| 20/20 [00:03<00:00,  6.57it/s]\n",
      "Lin.Train Epoch: [106] Loss: 1.9537 ACC: 52.16: 100%|██████████| 196/196 [00:10<00:00, 19.16it/s]\n",
      "Lin.Test Epoch: [106] Loss: 1.7281 ACC@1: 55.49% ACC@5: 83.03% : 100%|██████████| 20/20 [00:02<00:00,  6.89it/s]\n",
      "Lin.Train Epoch: [107] Loss: 1.9291 ACC: 52.67: 100%|██████████| 196/196 [00:11<00:00, 17.52it/s]\n",
      "Lin.Test Epoch: [107] Loss: 1.7727 ACC@1: 54.36% ACC@5: 82.31% : 100%|██████████| 20/20 [00:03<00:00,  6.55it/s]\n",
      "Lin.Train Epoch: [108] Loss: 1.9374 ACC: 52.28: 100%|██████████| 196/196 [00:11<00:00, 17.79it/s]\n",
      "Lin.Test Epoch: [108] Loss: 1.7800 ACC@1: 54.95% ACC@5: 82.29% : 100%|██████████| 20/20 [00:02<00:00,  6.92it/s]\n",
      "Lin.Train Epoch: [109] Loss: 1.9320 ACC: 52.60: 100%|██████████| 196/196 [00:10<00:00, 18.93it/s]\n",
      "Lin.Test Epoch: [109] Loss: 1.7538 ACC@1: 55.32% ACC@5: 82.63% : 100%|██████████| 20/20 [00:02<00:00,  6.80it/s]\n",
      "Lin.Train Epoch: [110] Loss: 1.8989 ACC: 53.29: 100%|██████████| 196/196 [00:11<00:00, 17.60it/s]\n",
      "Lin.Test Epoch: [110] Loss: 1.6933 ACC@1: 55.67% ACC@5: 83.51% : 100%|██████████| 20/20 [00:02<00:00,  6.75it/s]\n",
      "Lin.Train Epoch: [111] Loss: 1.9119 ACC: 52.81: 100%|██████████| 196/196 [00:11<00:00, 17.40it/s]\n",
      "Lin.Test Epoch: [111] Loss: 1.7470 ACC@1: 54.76% ACC@5: 82.65% : 100%|██████████| 20/20 [00:02<00:00,  8.19it/s]\n",
      "Lin.Train Epoch: [112] Loss: 1.8944 ACC: 52.98: 100%|██████████| 196/196 [00:11<00:00, 17.48it/s]\n",
      "Lin.Test Epoch: [112] Loss: 1.7291 ACC@1: 55.20% ACC@5: 82.97% : 100%|██████████| 20/20 [00:02<00:00,  6.69it/s]\n",
      "Lin.Train Epoch: [113] Loss: 1.8933 ACC: 52.95: 100%|██████████| 196/196 [00:11<00:00, 17.58it/s]\n",
      "Lin.Test Epoch: [113] Loss: 1.7145 ACC@1: 55.45% ACC@5: 83.00% : 100%|██████████| 20/20 [00:03<00:00,  6.49it/s]\n",
      "Lin.Train Epoch: [114] Loss: 1.8610 ACC: 53.58: 100%|██████████| 196/196 [00:10<00:00, 18.85it/s]\n",
      "Lin.Test Epoch: [114] Loss: 1.7399 ACC@1: 54.87% ACC@5: 82.78% : 100%|██████████| 20/20 [00:03<00:00,  6.57it/s]\n",
      "Lin.Train Epoch: [115] Loss: 1.8778 ACC: 53.14: 100%|██████████| 196/196 [00:10<00:00, 18.03it/s]\n",
      "Lin.Test Epoch: [115] Loss: 1.7062 ACC@1: 55.87% ACC@5: 83.23% : 100%|██████████| 20/20 [00:02<00:00,  6.81it/s]\n",
      "Lin.Train Epoch: [116] Loss: 1.8763 ACC: 53.22: 100%|██████████| 196/196 [00:11<00:00, 17.08it/s]\n",
      "Lin.Test Epoch: [116] Loss: 1.6835 ACC@1: 56.07% ACC@5: 83.39% : 100%|██████████| 20/20 [00:02<00:00,  6.81it/s]\n",
      "Lin.Train Epoch: [117] Loss: 1.8346 ACC: 53.74: 100%|██████████| 196/196 [00:10<00:00, 18.99it/s]\n",
      "Lin.Test Epoch: [117] Loss: 1.6668 ACC@1: 56.27% ACC@5: 83.47% : 100%|██████████| 20/20 [00:02<00:00,  6.82it/s]\n",
      "Lin.Train Epoch: [118] Loss: 1.8376 ACC: 53.78: 100%|██████████| 196/196 [00:11<00:00, 17.56it/s]\n",
      "Lin.Test Epoch: [118] Loss: 1.6760 ACC@1: 56.26% ACC@5: 83.30% : 100%|██████████| 20/20 [00:02<00:00,  7.04it/s]\n",
      "Lin.Train Epoch: [119] Loss: 1.8287 ACC: 53.73: 100%|██████████| 196/196 [00:10<00:00, 17.83it/s]\n",
      "Lin.Test Epoch: [119] Loss: 1.7166 ACC@1: 55.22% ACC@5: 82.97% : 100%|██████████| 20/20 [00:03<00:00,  6.64it/s]\n",
      "Lin.Train Epoch: [120] Loss: 1.8132 ACC: 54.13: 100%|██████████| 196/196 [00:10<00:00, 19.30it/s]\n",
      "Lin.Test Epoch: [120] Loss: 1.6648 ACC@1: 55.66% ACC@5: 83.44% : 100%|██████████| 20/20 [00:02<00:00,  7.21it/s]\n",
      "Lin.Train Epoch: [121] Loss: 1.8011 ACC: 54.08: 100%|██████████| 196/196 [00:11<00:00, 17.53it/s]\n",
      "Lin.Test Epoch: [121] Loss: 1.6712 ACC@1: 55.80% ACC@5: 83.68% : 100%|██████████| 20/20 [00:02<00:00,  7.26it/s]\n",
      "Lin.Train Epoch: [122] Loss: 1.8137 ACC: 54.14: 100%|██████████| 196/196 [00:11<00:00, 17.55it/s]\n",
      "Lin.Test Epoch: [122] Loss: 1.6738 ACC@1: 56.39% ACC@5: 83.54% : 100%|██████████| 20/20 [00:02<00:00,  6.99it/s]\n",
      "Lin.Train Epoch: [123] Loss: 1.7939 ACC: 54.45: 100%|██████████| 196/196 [00:11<00:00, 16.80it/s]\n",
      "Lin.Test Epoch: [123] Loss: 1.6652 ACC@1: 56.60% ACC@5: 83.56% : 100%|██████████| 20/20 [00:03<00:00,  5.97it/s]\n",
      "Lin.Train Epoch: [124] Loss: 1.7998 ACC: 54.52: 100%|██████████| 196/196 [00:10<00:00, 19.50it/s]\n",
      "Lin.Test Epoch: [124] Loss: 1.6306 ACC@1: 56.82% ACC@5: 83.79% : 100%|██████████| 20/20 [00:02<00:00,  8.58it/s]\n",
      "Lin.Train Epoch: [125] Loss: 1.8011 ACC: 54.22: 100%|██████████| 196/196 [00:10<00:00, 18.01it/s]\n",
      "Lin.Test Epoch: [125] Loss: 1.6440 ACC@1: 56.59% ACC@5: 83.78% : 100%|██████████| 20/20 [00:02<00:00,  7.01it/s]\n",
      "Lin.Train Epoch: [126] Loss: 1.7976 ACC: 54.32: 100%|██████████| 196/196 [00:11<00:00, 17.07it/s]\n",
      "Lin.Test Epoch: [126] Loss: 1.6567 ACC@1: 56.53% ACC@5: 83.61% : 100%|██████████| 20/20 [00:02<00:00,  6.77it/s]\n",
      "Lin.Train Epoch: [127] Loss: 1.7738 ACC: 54.27: 100%|██████████| 196/196 [00:10<00:00, 18.75it/s]\n",
      "Lin.Test Epoch: [127] Loss: 1.6203 ACC@1: 57.19% ACC@5: 84.03% : 100%|██████████| 20/20 [00:02<00:00,  6.96it/s]\n",
      "Lin.Train Epoch: [128] Loss: 1.7740 ACC: 54.71: 100%|██████████| 196/196 [00:10<00:00, 17.85it/s]\n",
      "Lin.Test Epoch: [128] Loss: 1.6506 ACC@1: 56.50% ACC@5: 83.64% : 100%|██████████| 20/20 [00:02<00:00,  6.81it/s]\n",
      "Lin.Train Epoch: [129] Loss: 1.7649 ACC: 54.57: 100%|██████████| 196/196 [00:11<00:00, 17.34it/s]\n",
      "Lin.Test Epoch: [129] Loss: 1.6072 ACC@1: 57.50% ACC@5: 84.48% : 100%|██████████| 20/20 [00:02<00:00,  7.27it/s]\n",
      "Lin.Train Epoch: [130] Loss: 1.7622 ACC: 55.05: 100%|██████████| 196/196 [00:10<00:00, 19.37it/s]\n",
      "Lin.Test Epoch: [130] Loss: 1.6135 ACC@1: 56.74% ACC@5: 84.22% : 100%|██████████| 20/20 [00:03<00:00,  6.62it/s]\n",
      "Lin.Train Epoch: [131] Loss: 1.7622 ACC: 54.78: 100%|██████████| 196/196 [00:11<00:00, 17.54it/s]\n",
      "Lin.Test Epoch: [131] Loss: 1.6229 ACC@1: 56.75% ACC@5: 83.78% : 100%|██████████| 20/20 [00:02<00:00,  6.71it/s]\n",
      "Lin.Train Epoch: [132] Loss: 1.7461 ACC: 55.26: 100%|██████████| 196/196 [00:11<00:00, 17.54it/s]\n",
      "Lin.Test Epoch: [132] Loss: 1.6487 ACC@1: 56.09% ACC@5: 83.72% : 100%|██████████| 20/20 [00:03<00:00,  6.67it/s]\n",
      "Lin.Train Epoch: [133] Loss: 1.7329 ACC: 55.30: 100%|██████████| 196/196 [00:10<00:00, 19.33it/s]\n",
      "Lin.Test Epoch: [133] Loss: 1.6045 ACC@1: 57.39% ACC@5: 83.88% : 100%|██████████| 20/20 [00:03<00:00,  6.59it/s]\n",
      "Lin.Train Epoch: [134] Loss: 1.7268 ACC: 55.29: 100%|██████████| 196/196 [00:11<00:00, 17.60it/s]\n",
      "Lin.Test Epoch: [134] Loss: 1.5891 ACC@1: 57.35% ACC@5: 84.52% : 100%|██████████| 20/20 [00:02<00:00,  7.11it/s]\n",
      "Lin.Train Epoch: [135] Loss: 1.7266 ACC: 55.67: 100%|██████████| 196/196 [00:11<00:00, 17.57it/s]\n",
      "Lin.Test Epoch: [135] Loss: 1.6140 ACC@1: 57.40% ACC@5: 83.95% : 100%|██████████| 20/20 [00:02<00:00,  6.73it/s]\n",
      "Lin.Train Epoch: [136] Loss: 1.7112 ACC: 55.86: 100%|██████████| 196/196 [00:10<00:00, 19.26it/s]\n",
      "Lin.Test Epoch: [136] Loss: 1.5847 ACC@1: 57.81% ACC@5: 84.39% : 100%|██████████| 20/20 [00:03<00:00,  6.18it/s]\n",
      "Lin.Train Epoch: [137] Loss: 1.7105 ACC: 55.72: 100%|██████████| 196/196 [00:11<00:00, 17.43it/s]\n",
      "Lin.Test Epoch: [137] Loss: 1.5829 ACC@1: 57.68% ACC@5: 84.13% : 100%|██████████| 20/20 [00:03<00:00,  6.49it/s]\n",
      "Lin.Train Epoch: [138] Loss: 1.6989 ACC: 55.93: 100%|██████████| 196/196 [00:11<00:00, 17.46it/s]\n",
      "Lin.Test Epoch: [138] Loss: 1.5701 ACC@1: 57.71% ACC@5: 84.33% : 100%|██████████| 20/20 [00:02<00:00,  8.33it/s]\n",
      "Lin.Train Epoch: [139] Loss: 1.7070 ACC: 55.42: 100%|██████████| 196/196 [00:11<00:00, 17.52it/s]\n",
      "Lin.Test Epoch: [139] Loss: 1.5681 ACC@1: 57.88% ACC@5: 84.73% : 100%|██████████| 20/20 [00:03<00:00,  6.52it/s]\n",
      "Lin.Train Epoch: [140] Loss: 1.6964 ACC: 55.52: 100%|██████████| 196/196 [00:11<00:00, 17.37it/s]\n",
      "Lin.Test Epoch: [140] Loss: 1.5542 ACC@1: 58.20% ACC@5: 84.98% : 100%|██████████| 20/20 [00:02<00:00,  6.83it/s]\n",
      "Lin.Train Epoch: [141] Loss: 1.6745 ACC: 56.28: 100%|██████████| 196/196 [00:10<00:00, 19.06it/s]\n",
      "Lin.Test Epoch: [141] Loss: 1.5538 ACC@1: 57.66% ACC@5: 84.83% : 100%|██████████| 20/20 [00:02<00:00,  7.03it/s]\n",
      "Lin.Train Epoch: [142] Loss: 1.6883 ACC: 56.18: 100%|██████████| 196/196 [00:11<00:00, 17.40it/s]\n",
      "Lin.Test Epoch: [142] Loss: 1.5570 ACC@1: 57.93% ACC@5: 84.90% : 100%|██████████| 20/20 [00:03<00:00,  6.61it/s]\n",
      "Lin.Train Epoch: [143] Loss: 1.6791 ACC: 56.26: 100%|██████████| 196/196 [00:11<00:00, 17.51it/s]\n",
      "Lin.Test Epoch: [143] Loss: 1.5643 ACC@1: 57.60% ACC@5: 84.86% : 100%|██████████| 20/20 [00:02<00:00,  7.14it/s]\n",
      "Lin.Train Epoch: [144] Loss: 1.6748 ACC: 56.48: 100%|██████████| 196/196 [00:10<00:00, 19.03it/s]\n",
      "Lin.Test Epoch: [144] Loss: 1.5745 ACC@1: 57.50% ACC@5: 84.63% : 100%|██████████| 20/20 [00:03<00:00,  6.34it/s]\n",
      "Lin.Train Epoch: [145] Loss: 1.6690 ACC: 56.26: 100%|██████████| 196/196 [00:11<00:00, 17.21it/s]\n",
      "Lin.Test Epoch: [145] Loss: 1.5377 ACC@1: 58.28% ACC@5: 84.89% : 100%|██████████| 20/20 [00:03<00:00,  6.55it/s]\n",
      "Lin.Train Epoch: [146] Loss: 1.6539 ACC: 56.70: 100%|██████████| 196/196 [00:11<00:00, 17.53it/s]\n",
      "Lin.Test Epoch: [146] Loss: 1.5295 ACC@1: 58.21% ACC@5: 85.04% : 100%|██████████| 20/20 [00:03<00:00,  6.49it/s]\n",
      "Lin.Train Epoch: [147] Loss: 1.6618 ACC: 56.83: 100%|██████████| 196/196 [00:10<00:00, 18.28it/s]\n",
      "Lin.Test Epoch: [147] Loss: 1.5340 ACC@1: 58.44% ACC@5: 85.08% : 100%|██████████| 20/20 [00:03<00:00,  6.57it/s]\n",
      "Lin.Train Epoch: [148] Loss: 1.6422 ACC: 57.00: 100%|██████████| 196/196 [00:11<00:00, 17.25it/s]\n",
      "Lin.Test Epoch: [148] Loss: 1.5376 ACC@1: 58.49% ACC@5: 84.90% : 100%|██████████| 20/20 [00:02<00:00,  6.89it/s]\n",
      "Lin.Train Epoch: [149] Loss: 1.6464 ACC: 57.00: 100%|██████████| 196/196 [00:11<00:00, 17.08it/s]\n",
      "Lin.Test Epoch: [149] Loss: 1.5263 ACC@1: 59.14% ACC@5: 85.24% : 100%|██████████| 20/20 [00:02<00:00,  7.91it/s]\n",
      "Lin.Train Epoch: [150] Loss: 1.6409 ACC: 57.01: 100%|██████████| 196/196 [00:10<00:00, 17.96it/s]\n",
      "Lin.Test Epoch: [150] Loss: 1.5313 ACC@1: 58.34% ACC@5: 85.13% : 100%|██████████| 20/20 [00:02<00:00,  6.86it/s]\n",
      "Lin.Train Epoch: [151] Loss: 1.6284 ACC: 57.19: 100%|██████████| 196/196 [00:11<00:00, 17.33it/s]\n",
      "Lin.Test Epoch: [151] Loss: 1.5196 ACC@1: 58.70% ACC@5: 85.41% : 100%|██████████| 20/20 [00:02<00:00,  6.80it/s]\n",
      "Lin.Train Epoch: [152] Loss: 1.6157 ACC: 57.51: 100%|██████████| 196/196 [00:11<00:00, 17.53it/s]\n",
      "Lin.Test Epoch: [152] Loss: 1.5207 ACC@1: 58.53% ACC@5: 85.32% : 100%|██████████| 20/20 [00:03<00:00,  5.99it/s]\n",
      "Lin.Train Epoch: [153] Loss: 1.6316 ACC: 57.33: 100%|██████████| 196/196 [00:11<00:00, 16.43it/s]\n",
      "Lin.Test Epoch: [153] Loss: 1.5219 ACC@1: 58.65% ACC@5: 85.17% : 100%|██████████| 20/20 [00:02<00:00,  7.81it/s]\n",
      "Lin.Train Epoch: [154] Loss: 1.6215 ACC: 57.40: 100%|██████████| 196/196 [00:09<00:00, 19.64it/s]\n",
      "Lin.Test Epoch: [154] Loss: 1.5163 ACC@1: 58.95% ACC@5: 85.33% : 100%|██████████| 20/20 [00:02<00:00,  6.90it/s]\n",
      "Lin.Train Epoch: [155] Loss: 1.6085 ACC: 57.65: 100%|██████████| 196/196 [00:11<00:00, 17.74it/s]\n",
      "Lin.Test Epoch: [155] Loss: 1.5023 ACC@1: 59.21% ACC@5: 85.53% : 100%|██████████| 20/20 [00:02<00:00,  6.81it/s]\n",
      "Lin.Train Epoch: [156] Loss: 1.6090 ACC: 57.68: 100%|██████████| 196/196 [00:11<00:00, 17.66it/s]\n",
      "Lin.Test Epoch: [156] Loss: 1.5105 ACC@1: 58.92% ACC@5: 85.27% : 100%|██████████| 20/20 [00:02<00:00,  6.80it/s]\n",
      "Lin.Train Epoch: [157] Loss: 1.6157 ACC: 57.58: 100%|██████████| 196/196 [00:10<00:00, 18.94it/s]\n",
      "Lin.Test Epoch: [157] Loss: 1.5209 ACC@1: 58.66% ACC@5: 85.12% : 100%|██████████| 20/20 [00:02<00:00,  6.82it/s]\n",
      "Lin.Train Epoch: [158] Loss: 1.6123 ACC: 57.83: 100%|██████████| 196/196 [00:11<00:00, 17.78it/s]\n",
      "Lin.Test Epoch: [158] Loss: 1.5059 ACC@1: 59.13% ACC@5: 85.19% : 100%|██████████| 20/20 [00:02<00:00,  6.88it/s]\n",
      "Lin.Train Epoch: [159] Loss: 1.6015 ACC: 57.59: 100%|██████████| 196/196 [00:11<00:00, 17.73it/s]\n",
      "Lin.Test Epoch: [159] Loss: 1.4992 ACC@1: 59.64% ACC@5: 85.25% : 100%|██████████| 20/20 [00:02<00:00,  7.67it/s]\n",
      "Lin.Train Epoch: [160] Loss: 1.5961 ACC: 58.09: 100%|██████████| 196/196 [00:11<00:00, 17.40it/s]\n",
      "Lin.Test Epoch: [160] Loss: 1.5113 ACC@1: 58.65% ACC@5: 85.40% : 100%|██████████| 20/20 [00:02<00:00,  6.73it/s]\n",
      "Lin.Train Epoch: [161] Loss: 1.5884 ACC: 57.92: 100%|██████████| 196/196 [00:10<00:00, 17.89it/s]\n",
      "Lin.Test Epoch: [161] Loss: 1.5039 ACC@1: 59.19% ACC@5: 85.42% : 100%|██████████| 20/20 [00:03<00:00,  6.54it/s]\n",
      "Lin.Train Epoch: [162] Loss: 1.5933 ACC: 58.25: 100%|██████████| 196/196 [00:10<00:00, 17.87it/s]\n",
      "Lin.Test Epoch: [162] Loss: 1.4965 ACC@1: 59.52% ACC@5: 85.47% : 100%|██████████| 20/20 [00:02<00:00,  7.34it/s]\n",
      "Lin.Train Epoch: [163] Loss: 1.5927 ACC: 57.85: 100%|██████████| 196/196 [00:11<00:00, 17.50it/s]\n",
      "Lin.Test Epoch: [163] Loss: 1.4914 ACC@1: 59.33% ACC@5: 85.56% : 100%|██████████| 20/20 [00:03<00:00,  6.60it/s]\n",
      "Lin.Train Epoch: [164] Loss: 1.5808 ACC: 58.35: 100%|██████████| 196/196 [00:11<00:00, 17.15it/s]\n",
      "Lin.Test Epoch: [164] Loss: 1.4953 ACC@1: 59.33% ACC@5: 85.51% : 100%|██████████| 20/20 [00:03<00:00,  6.51it/s]\n",
      "Lin.Train Epoch: [165] Loss: 1.5836 ACC: 58.64: 100%|██████████| 196/196 [00:10<00:00, 19.31it/s]\n",
      "Lin.Test Epoch: [165] Loss: 1.4890 ACC@1: 59.45% ACC@5: 85.45% : 100%|██████████| 20/20 [00:03<00:00,  6.52it/s]\n",
      "Lin.Train Epoch: [166] Loss: 1.5890 ACC: 57.94: 100%|██████████| 196/196 [00:10<00:00, 17.91it/s]\n",
      "Lin.Test Epoch: [166] Loss: 1.4885 ACC@1: 59.79% ACC@5: 85.38% : 100%|██████████| 20/20 [00:03<00:00,  6.65it/s]\n",
      "Lin.Train Epoch: [167] Loss: 1.5769 ACC: 58.39: 100%|██████████| 196/196 [00:11<00:00, 17.27it/s]\n",
      "Lin.Test Epoch: [167] Loss: 1.4889 ACC@1: 59.69% ACC@5: 85.60% : 100%|██████████| 20/20 [00:02<00:00,  6.75it/s]\n",
      "Lin.Train Epoch: [168] Loss: 1.5645 ACC: 58.68: 100%|██████████| 196/196 [00:10<00:00, 19.37it/s]\n",
      "Lin.Test Epoch: [168] Loss: 1.4932 ACC@1: 59.59% ACC@5: 85.32% : 100%|██████████| 20/20 [00:02<00:00,  6.73it/s]\n",
      "Lin.Train Epoch: [169] Loss: 1.5700 ACC: 58.68: 100%|██████████| 196/196 [00:11<00:00, 17.60it/s]\n",
      "Lin.Test Epoch: [169] Loss: 1.4863 ACC@1: 59.34% ACC@5: 85.57% : 100%|██████████| 20/20 [00:03<00:00,  6.64it/s]\n",
      "Lin.Train Epoch: [170] Loss: 1.5678 ACC: 58.51: 100%|██████████| 196/196 [00:11<00:00, 17.54it/s]\n",
      "Lin.Test Epoch: [170] Loss: 1.4814 ACC@1: 59.75% ACC@5: 85.58% : 100%|██████████| 20/20 [00:02<00:00,  7.18it/s]\n",
      "Lin.Train Epoch: [171] Loss: 1.5570 ACC: 58.72: 100%|██████████| 196/196 [00:10<00:00, 19.39it/s]\n",
      "Lin.Test Epoch: [171] Loss: 1.4784 ACC@1: 59.84% ACC@5: 85.51% : 100%|██████████| 20/20 [00:02<00:00,  6.72it/s]\n",
      "Lin.Train Epoch: [172] Loss: 1.5603 ACC: 58.87: 100%|██████████| 196/196 [00:11<00:00, 17.72it/s]\n",
      "Lin.Test Epoch: [172] Loss: 1.4848 ACC@1: 59.62% ACC@5: 85.67% : 100%|██████████| 20/20 [00:02<00:00,  6.73it/s]\n",
      "Lin.Train Epoch: [173] Loss: 1.5561 ACC: 58.72: 100%|██████████| 196/196 [00:11<00:00, 17.15it/s]\n",
      "Lin.Test Epoch: [173] Loss: 1.4720 ACC@1: 59.72% ACC@5: 85.66% : 100%|██████████| 20/20 [00:03<00:00,  6.56it/s]\n",
      "Lin.Train Epoch: [174] Loss: 1.5550 ACC: 58.75: 100%|██████████| 196/196 [00:10<00:00, 17.96it/s]\n",
      "Lin.Test Epoch: [174] Loss: 1.4724 ACC@1: 60.06% ACC@5: 85.76% : 100%|██████████| 20/20 [00:03<00:00,  6.64it/s]\n",
      "Lin.Train Epoch: [175] Loss: 1.5507 ACC: 59.10: 100%|██████████| 196/196 [00:11<00:00, 17.70it/s]\n",
      "Lin.Test Epoch: [175] Loss: 1.4768 ACC@1: 59.59% ACC@5: 85.89% : 100%|██████████| 20/20 [00:02<00:00,  6.94it/s]\n",
      "Lin.Train Epoch: [176] Loss: 1.5530 ACC: 59.04: 100%|██████████| 196/196 [00:11<00:00, 17.59it/s]\n",
      "Lin.Test Epoch: [176] Loss: 1.4734 ACC@1: 59.94% ACC@5: 85.85% : 100%|██████████| 20/20 [00:02<00:00,  9.12it/s]\n",
      "Lin.Train Epoch: [177] Loss: 1.5525 ACC: 58.97: 100%|██████████| 196/196 [00:11<00:00, 17.47it/s]\n",
      "Lin.Test Epoch: [177] Loss: 1.4737 ACC@1: 59.83% ACC@5: 85.71% : 100%|██████████| 20/20 [00:02<00:00,  6.67it/s]\n",
      "Lin.Train Epoch: [178] Loss: 1.5388 ACC: 59.38: 100%|██████████| 196/196 [00:11<00:00, 17.70it/s]\n",
      "Lin.Test Epoch: [178] Loss: 1.4723 ACC@1: 59.83% ACC@5: 85.79% : 100%|██████████| 20/20 [00:03<00:00,  6.61it/s]\n",
      "Lin.Train Epoch: [179] Loss: 1.5302 ACC: 59.52: 100%|██████████| 196/196 [00:10<00:00, 18.54it/s]\n",
      "Lin.Test Epoch: [179] Loss: 1.4710 ACC@1: 59.74% ACC@5: 85.71% : 100%|██████████| 20/20 [00:02<00:00,  7.09it/s]\n",
      "Lin.Train Epoch: [180] Loss: 1.5494 ACC: 59.13: 100%|██████████| 196/196 [00:11<00:00, 17.52it/s]\n",
      "Lin.Test Epoch: [180] Loss: 1.4706 ACC@1: 59.74% ACC@5: 85.83% : 100%|██████████| 20/20 [00:02<00:00,  6.82it/s]\n",
      "Lin.Train Epoch: [181] Loss: 1.5372 ACC: 59.26: 100%|██████████| 196/196 [00:11<00:00, 17.57it/s]\n",
      "Lin.Test Epoch: [181] Loss: 1.4697 ACC@1: 59.92% ACC@5: 85.69% : 100%|██████████| 20/20 [00:02<00:00,  6.73it/s]\n",
      "Lin.Train Epoch: [182] Loss: 1.5315 ACC: 59.30: 100%|██████████| 196/196 [00:11<00:00, 17.46it/s]\n",
      "Lin.Test Epoch: [182] Loss: 1.4667 ACC@1: 59.99% ACC@5: 85.74% : 100%|██████████| 20/20 [00:03<00:00,  5.95it/s]\n",
      "Lin.Train Epoch: [183] Loss: 1.5386 ACC: 59.37: 100%|██████████| 196/196 [00:11<00:00, 17.10it/s]\n",
      "Lin.Test Epoch: [183] Loss: 1.4652 ACC@1: 59.98% ACC@5: 85.76% : 100%|██████████| 20/20 [00:02<00:00,  7.38it/s]\n",
      "Lin.Train Epoch: [184] Loss: 1.5370 ACC: 59.59: 100%|██████████| 196/196 [00:10<00:00, 19.22it/s]\n",
      "Lin.Test Epoch: [184] Loss: 1.4638 ACC@1: 60.14% ACC@5: 85.75% : 100%|██████████| 20/20 [00:03<00:00,  6.66it/s]\n",
      "Lin.Train Epoch: [185] Loss: 1.5325 ACC: 59.53: 100%|██████████| 196/196 [00:11<00:00, 17.52it/s]\n",
      "Lin.Test Epoch: [185] Loss: 1.4643 ACC@1: 60.19% ACC@5: 85.68% : 100%|██████████| 20/20 [00:03<00:00,  6.53it/s]\n",
      "Lin.Train Epoch: [186] Loss: 1.5283 ACC: 59.85: 100%|██████████| 196/196 [00:11<00:00, 17.36it/s]\n",
      "Lin.Test Epoch: [186] Loss: 1.4637 ACC@1: 60.21% ACC@5: 85.85% : 100%|██████████| 20/20 [00:02<00:00,  7.73it/s]\n",
      "Lin.Train Epoch: [187] Loss: 1.5258 ACC: 59.88: 100%|██████████| 196/196 [00:11<00:00, 17.26it/s]\n",
      "Lin.Test Epoch: [187] Loss: 1.4619 ACC@1: 60.22% ACC@5: 85.74% : 100%|██████████| 20/20 [00:03<00:00,  6.63it/s]\n",
      "Lin.Train Epoch: [188] Loss: 1.5317 ACC: 59.52: 100%|██████████| 196/196 [00:11<00:00, 17.20it/s]\n",
      "Lin.Test Epoch: [188] Loss: 1.4635 ACC@1: 59.98% ACC@5: 85.78% : 100%|██████████| 20/20 [00:03<00:00,  6.65it/s]\n",
      "Lin.Train Epoch: [189] Loss: 1.5282 ACC: 59.57: 100%|██████████| 196/196 [00:10<00:00, 18.46it/s]\n",
      "Lin.Test Epoch: [189] Loss: 1.4637 ACC@1: 60.13% ACC@5: 85.69% : 100%|██████████| 20/20 [00:03<00:00,  6.66it/s]\n",
      "Lin.Train Epoch: [190] Loss: 1.5209 ACC: 60.00: 100%|██████████| 196/196 [00:11<00:00, 17.33it/s]\n",
      "Lin.Test Epoch: [190] Loss: 1.4608 ACC@1: 60.25% ACC@5: 85.81% : 100%|██████████| 20/20 [00:02<00:00,  6.71it/s]\n",
      "Lin.Train Epoch: [191] Loss: 1.5213 ACC: 59.74: 100%|██████████| 196/196 [00:11<00:00, 17.48it/s]\n",
      "Lin.Test Epoch: [191] Loss: 1.4626 ACC@1: 60.11% ACC@5: 85.69% : 100%|██████████| 20/20 [00:03<00:00,  6.59it/s]\n",
      "Lin.Train Epoch: [192] Loss: 1.5214 ACC: 59.76: 100%|██████████| 196/196 [00:10<00:00, 19.42it/s]\n",
      "Lin.Test Epoch: [192] Loss: 1.4594 ACC@1: 60.31% ACC@5: 85.80% : 100%|██████████| 20/20 [00:03<00:00,  6.11it/s]\n",
      "Lin.Train Epoch: [193] Loss: 1.5197 ACC: 59.86: 100%|██████████| 196/196 [00:11<00:00, 17.63it/s]\n",
      "Lin.Test Epoch: [193] Loss: 1.4594 ACC@1: 60.19% ACC@5: 85.77% : 100%|██████████| 20/20 [00:03<00:00,  6.48it/s]\n",
      "Lin.Train Epoch: [194] Loss: 1.5194 ACC: 60.04: 100%|██████████| 196/196 [00:11<00:00, 17.62it/s]\n",
      "Lin.Test Epoch: [194] Loss: 1.4604 ACC@1: 60.29% ACC@5: 85.76% : 100%|██████████| 20/20 [00:02<00:00,  6.69it/s]\n",
      "Lin.Train Epoch: [195] Loss: 1.5141 ACC: 59.81: 100%|██████████| 196/196 [00:10<00:00, 19.27it/s]\n",
      "Lin.Test Epoch: [195] Loss: 1.4602 ACC@1: 60.31% ACC@5: 85.80% : 100%|██████████| 20/20 [00:03<00:00,  6.53it/s]\n",
      "Lin.Train Epoch: [196] Loss: 1.5054 ACC: 60.23: 100%|██████████| 196/196 [00:10<00:00, 17.91it/s]\n",
      "Lin.Test Epoch: [196] Loss: 1.4601 ACC@1: 60.27% ACC@5: 85.74% : 100%|██████████| 20/20 [00:02<00:00,  7.00it/s]\n",
      "Lin.Train Epoch: [197] Loss: 1.5199 ACC: 59.94: 100%|██████████| 196/196 [00:11<00:00, 17.24it/s]\n",
      "Lin.Test Epoch: [197] Loss: 1.4600 ACC@1: 60.25% ACC@5: 85.75% : 100%|██████████| 20/20 [00:02<00:00,  6.70it/s]\n",
      "Lin.Train Epoch: [198] Loss: 1.5217 ACC: 59.99: 100%|██████████| 196/196 [00:10<00:00, 18.59it/s]\n",
      "Lin.Test Epoch: [198] Loss: 1.4593 ACC@1: 60.31% ACC@5: 85.76% : 100%|██████████| 20/20 [00:02<00:00,  6.84it/s]\n",
      "Lin.Train Epoch: [199] Loss: 1.5123 ACC: 60.18: 100%|██████████| 196/196 [00:11<00:00, 17.71it/s]\n",
      "Lin.Test Epoch: [199] Loss: 1.4591 ACC@1: 60.32% ACC@5: 85.76% : 100%|██████████| 20/20 [00:02<00:00,  6.83it/s]\n",
      "Lin.Train Epoch: [200] Loss: 1.5182 ACC: 60.02: 100%|██████████| 196/196 [00:11<00:00, 17.58it/s]\n",
      "Lin.Test Epoch: [200] Loss: 1.4586 ACC@1: 60.31% ACC@5: 85.74% : 100%|██████████| 20/20 [00:02<00:00,  8.74it/s]\n"
     ]
    }
   ],
   "source": [
    "lin_epoch = 200\n",
    "classifier = LinearClassifier(num_classes = 100).to(device)\n",
    "lin_optimizer = torch.optim.SGD(classifier.parameters(), 0.1, momentum=0.9) # Infomax: no weight decay, epoch 100, cosine scheduler\n",
    "lin_scheduler = torch.optim.lr_scheduler.CosineAnnealingLR(lin_optimizer, lin_epoch, eta_min=2e-4) #scheduler + values ref: infomax paper\n",
    "test_loss, test_acc1, test_acc5, classifier = linear_evaluation(model, train_data_loaders_linear_all[0],\n",
    "                                                                     test_data_loaders_all[0],lin_optimizer, classifier, \n",
    "                                                                     lin_scheduler, epochs=lin_epoch, device=device) "
   ]
  },
  {
   "cell_type": "code",
   "execution_count": null,
   "metadata": {},
   "outputs": [],
   "source": []
  }
 ],
 "metadata": {
  "kernelspec": {
   "display_name": "fedml_academic",
   "language": "python",
   "name": "fedml_academic"
  },
  "language_info": {
   "codemirror_mode": {
    "name": "ipython",
    "version": 3
   },
   "file_extension": ".py",
   "mimetype": "text/x-python",
   "name": "python",
   "nbconvert_exporter": "python",
   "pygments_lexer": "ipython3",
   "version": "3.7.13"
  },
  "orig_nbformat": 4
 },
 "nbformat": 4,
 "nbformat_minor": 2
}
