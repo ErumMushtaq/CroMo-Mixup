{
 "cells": [
  {
   "cell_type": "code",
   "execution_count": 110,
   "metadata": {},
   "outputs": [],
   "source": [
    "import os\n",
    "import sys\n",
    "import wandb\n",
    "import argparse\n",
    "import numpy as np\n",
    "\n",
    "\n",
    "sys.path.insert(0, os.path.abspath(os.path.join(os.getcwd(), \"../\")))\n",
    "sys.path.insert(0, os.path.abspath(os.path.join(os.getcwd(), \"\")))\n",
    "import torch\n",
    "import torchvision.transforms as T\n",
    "import torchvision\n",
    "\n",
    "from dataloaders.dataloader_cifar10 import get_cifar10\n",
    "from dataloaders.dataloader_cifar100 import get_cifar100\n",
    "from utils.eval_metrics import linear_evaluation, get_t_SNE_plot\n",
    "from models.linear_classifer import LinearClassifier\n",
    "from models.ssl import  SimSiam, Siamese, Encoder, Predictor\n",
    "\n",
    "from trainers.train_simsiam import train_simsiam\n",
    "from trainers.train_infomax import train_infomax\n",
    "from trainers.train_barlow import train_barlow\n",
    "\n",
    "from trainers.train_PFR import train_PFR_simsiam\n",
    "from trainers.train_PFR_contrastive import train_PFR_contrastive_simsiam\n",
    "from trainers.train_contrastive import train_contrastive_simsiam\n",
    "from trainers.train_ering import train_ering_simsiam\n",
    "\n",
    "from torchsummary import summary\n",
    "import random\n",
    "from utils.lr_schedulers import LinearWarmupCosineAnnealingLR, SimSiamScheduler\n",
    "from utils.eval_metrics import Knn_Validation_cont\n",
    "from copy import deepcopy\n",
    "from loss import invariance_loss,CovarianceLoss,ErrorCovarianceLoss\n",
    "import torch.nn as nn\n",
    "import time\n",
    "import torch.nn.functional as F\n",
    "from sklearn.metrics.pairwise import euclidean_distances\n",
    "import matplotlib.pyplot as plt\n",
    "from sklearn.metrics.pairwise import cosine_similarity\n",
    "\n",
    "\n",
    "os.environ[\"CUDA_DEVICE_ORDER\"] = \"PCI_BUS_ID\"\n",
    "os.environ[\"CUDA_VISIBLE_DEVICES\"] = \"0,1,2,3,4,5,6,7\""
   ]
  },
  {
   "cell_type": "code",
   "execution_count": 2,
   "metadata": {},
   "outputs": [],
   "source": [
    "class GaussianBlur(object):\n",
    "    \"\"\"Gaussian blur augmentation in SimCLR https://arxiv.org/abs/2002.05709\"\"\"\n",
    "\n",
    "    def __init__(self, sigma=[0.1, 2.0]):\n",
    "        self.sigma = sigma\n",
    "\n",
    "    def __call__(self, x):\n",
    "        sigma = random.uniform(self.sigma[0], self.sigma[1])\n",
    "        x = torchvision.transforms.functional.gaussian_blur(x,kernel_size=[3,3],sigma=sigma)#kernel size and sigma are open problems but right now seems ok!\n",
    "        return x\n",
    "\n",
    "\n",
    "def save_checkpoint(state, is_best, filename='checkpoint.pth.tar'):\n",
    "    torch.save(state, filename)\n",
    "    if is_best:\n",
    "        shutil.copyfile(filename, 'model_best.pth.tar')"
   ]
  },
  {
   "cell_type": "code",
   "execution_count": 3,
   "metadata": {},
   "outputs": [],
   "source": [
    "class Args():\n",
    "    normalization = 'batch'\n",
    "    weight_standard = False\n",
    "    same_lr = False\n",
    "    pretrain_batch_size = 512\n",
    "    pretrain_warmup_epochs = 10\n",
    "    pretrain_warmup_lr = 3e-3\n",
    "    pretrain_base_lr = 0.03\n",
    "    pretrain_momentum = 0.9\n",
    "    pretrain_weight_decay = 5e-4\n",
    "    min_lr = 0.00\n",
    "    lambdap = 1.0\n",
    "    appr = 'barlow_PFR'\n",
    "    knn_report_freq = 10\n",
    "    cuda_device = 5\n",
    "    num_workers = 8\n",
    "    contrastive_ratio = 0.001\n",
    "    dataset = 'cifar100'\n",
    "    class_split = [25,25,25,25]\n",
    "    epochs = [500,500,500,500]\n",
    "    cov_loss_weight = 1.0\n",
    "    sim_loss_weight = 250.0\n",
    "    info_loss = 'invariance'\n",
    "    lambda_norm = 1.0\n",
    "    subspace_rate = 0.99\n",
    "    lambda_param = 5e-3\n",
    "    bsize = 32\n",
    "    msize = 150\n",
    "    proj_hidden = 2048\n",
    "    proj_out = 2048 #infomax 64\n",
    "    pred_hidden = 512\n",
    "    pred_out = 2048\n",
    "\n"
   ]
  },
  {
   "cell_type": "code",
   "execution_count": 4,
   "metadata": {},
   "outputs": [],
   "source": [
    "args = Args()"
   ]
  },
  {
   "cell_type": "code",
   "execution_count": 5,
   "metadata": {},
   "outputs": [],
   "source": [
    "if args.dataset == \"cifar10\":\n",
    "        get_dataloaders = get_cifar10\n",
    "        num_classes=10\n",
    "elif args.dataset == \"cifar100\":\n",
    "    get_dataloaders = get_cifar100\n",
    "    num_classes=100\n",
    "assert sum(args.class_split) == num_classes\n",
    "assert len(args.class_split) == len(args.epochs)"
   ]
  },
  {
   "cell_type": "code",
   "execution_count": 6,
   "metadata": {},
   "outputs": [
    {
     "name": "stdout",
     "output_type": "stream",
     "text": [
      "cpu\n"
     ]
    }
   ],
   "source": [
    "num_worker = args.num_workers\n",
    "#device\n",
    "device = torch.device(\"cpu\")\n",
    "print(device)"
   ]
  },
  {
   "cell_type": "code",
   "execution_count": 7,
   "metadata": {},
   "outputs": [
    {
     "name": "stderr",
     "output_type": "stream",
     "text": [
      "Failed to detect the name of this notebook, you can set it manually with the WANDB_NOTEBOOK_NAME environment variable to enable code saving.\n"
     ]
    },
    {
     "data": {
      "text/plain": []
     },
     "execution_count": 7,
     "metadata": {},
     "output_type": "execute_result"
    }
   ],
   "source": [
    "#wandb init\n",
    "wandb.init(project=\"CSSL\",  entity=\"yavuz-team\",\n",
    "            mode=\"disabled\",\n",
    "            config=args,\n",
    "            name= str(args.dataset) + '-algo' + str(args.appr) + \"-e\" + str(args.epochs) + \"-b\" \n",
    "            + str(args.pretrain_batch_size) + \"-lr\" + str(args.pretrain_base_lr)+\"-CS\"+str(args.class_split))"
   ]
  },
  {
   "cell_type": "code",
   "execution_count": 8,
   "metadata": {},
   "outputs": [],
   "source": [
    "if 'infomax' in args.appr or 'barlow' in args.appr:\n",
    "    transform = T.Compose([\n",
    "            T.RandomResizedCrop(size=32, scale=(0.2, 1.0)),\n",
    "            T.RandomHorizontalFlip(),\n",
    "            T.RandomApply(torch.nn.ModuleList([T.ColorJitter(brightness=0.4, contrast=0.4, saturation=0.4, hue=0.1)]), p=0.8),\n",
    "            T.RandomGrayscale(p=0.2),\n",
    "            T.RandomApply([GaussianBlur()], p=0.5), \n",
    "            T.Normalize(mean=[0.4914, 0.4822, 0.4465], std=[0.247, 0.243, 0.261])])\n",
    "\n",
    "    transform_prime = T.Compose([\n",
    "            T.RandomResizedCrop(size=32, scale=(0.2, 1.0)),\n",
    "            T.RandomHorizontalFlip(),\n",
    "            T.RandomApply(torch.nn.ModuleList([T.ColorJitter(brightness=0.4, contrast=0.4, saturation=0.4, hue=0.1)]), p=0.8),\n",
    "            T.RandomGrayscale(p=0.2),\n",
    "            T.RandomApply([GaussianBlur()], p=0.5), \n",
    "            T.Normalize(mean=[0.4914, 0.4822, 0.4465], std=[0.247, 0.243, 0.261])])"
   ]
  },
  {
   "cell_type": "code",
   "execution_count": 9,
   "metadata": {},
   "outputs": [
    {
     "name": "stdout",
     "output_type": "stream",
     "text": [
      "Creating Dataloaders..\n",
      "Files already downloaded and verified\n",
      "Files already downloaded and verified\n",
      "Files already downloaded and verified\n",
      "Files already downloaded and verified\n"
     ]
    }
   ],
   "source": [
    "#Dataloaders\n",
    "print(\"Creating Dataloaders..\")\n",
    "#Class Based\n",
    "train_data_loaders, train_data_loaders_knn, test_data_loaders, _, train_data_loaders_linear, train_data_loaders_pure  = get_dataloaders(transform, transform_prime, \\\n",
    "                                    classes=args.class_split, valid_rate = 0.00, batch_size=args.pretrain_batch_size, seed = 0, num_worker= num_worker)\n",
    "_, train_data_loaders_knn_all, test_data_loaders_all, _, train_data_loaders_linear_all, train_data_loaders_pure_all = get_dataloaders(transform, transform_prime, \\\n",
    "                                        classes=[num_classes], valid_rate = 0.00, batch_size=args.pretrain_batch_size, seed = 0, num_worker= num_worker)\n"
   ]
  },
  {
   "cell_type": "code",
   "execution_count": 10,
   "metadata": {},
   "outputs": [],
   "source": [
    "if 'infomax' in args.appr or 'barlow' in args.appr:\n",
    "    proj_hidden = args.proj_hidden\n",
    "    proj_out = args.proj_out\n",
    "    encoder = Encoder(hidden_dim=proj_hidden, output_dim=proj_out, normalization = args.normalization, weight_standard = args.weight_standard,appr_name =args.appr)\n",
    "    model = Siamese(encoder)\n",
    "    model.to(device) #automatically detects from model"
   ]
  },
  {
   "cell_type": "code",
   "execution_count": 11,
   "metadata": {},
   "outputs": [],
   "source": [
    "#load model here\n",
    "file_name = 'checkpoints/checkpoint_cifar100-algocassle_barlow-e[500, 500, 500, 500]-b256-lr0.06-CS[25, 25, 25, 25]acc_60.97.pth.tar'\n",
    "dict = torch.load(file_name)"
   ]
  },
  {
   "cell_type": "code",
   "execution_count": 12,
   "metadata": {},
   "outputs": [],
   "source": [
    "model.temporal_projector = nn.Sequential(\n",
    "            nn.Linear(args.proj_out, args.proj_hidden, bias=False),\n",
    "            nn.BatchNorm1d(args.proj_hidden),\n",
    "            nn.ReLU(),\n",
    "            nn.Linear(args.proj_hidden, args.proj_out),\n",
    "        ).to(device)"
   ]
  },
  {
   "cell_type": "code",
   "execution_count": 13,
   "metadata": {},
   "outputs": [
    {
     "data": {
      "text/plain": [
       "<All keys matched successfully>"
      ]
     },
     "execution_count": 13,
     "metadata": {},
     "output_type": "execute_result"
    }
   ],
   "source": [
    "model.load_state_dict(dict['state_dict'])"
   ]
  },
  {
   "cell_type": "code",
   "execution_count": 14,
   "metadata": {},
   "outputs": [
    {
     "data": {
      "text/plain": [
       "device(type='cpu')"
      ]
     },
     "execution_count": 14,
     "metadata": {},
     "output_type": "execute_result"
    }
   ],
   "source": [
    "device"
   ]
  },
  {
   "cell_type": "code",
   "execution_count": 15,
   "metadata": {},
   "outputs": [
    {
     "name": "stdout",
     "output_type": "stream",
     "text": [
      "Starting Classifier Training..\n"
     ]
    },
    {
     "data": {
      "text/plain": [
       "<All keys matched successfully>"
      ]
     },
     "execution_count": 15,
     "metadata": {},
     "output_type": "execute_result"
    }
   ],
   "source": [
    "#Test Linear classification acc\n",
    "print(\"Starting Classifier Training..\")\n",
    "lin_epoch = 100\n",
    "if args.dataset == 'cifar10':\n",
    "    classifier = LinearClassifier(num_classes = 10).to(device)\n",
    "elif args.dataset == 'cifar100':\n",
    "    classifier = LinearClassifier(num_classes = 100).to(device)\n",
    "\n",
    "classifier.load_state_dict(dict['classifier'])\n",
    "\n",
    "# lin_optimizer = torch.optim.SGD(classifier.parameters(), 0.1, momentum=0.9) # Infomax: no weight decay, epoch 100, cosine scheduler\n",
    "# lin_scheduler = torch.optim.lr_scheduler.CosineAnnealingLR(lin_optimizer, lin_epoch, eta_min=2e-4) #scheduler + values ref: infomax paper\n",
    "# test_loss, test_acc1, test_acc5, classifier = linear_evaluation(model, train_data_loaders_knn_all[0],\n",
    "#                                                                     test_data_loaders_all[0],lin_optimizer, classifier, \n",
    "#                                                                     lin_scheduler, epochs=lin_epoch, device=device) \n"
   ]
  },
  {
   "cell_type": "code",
   "execution_count": 16,
   "metadata": {},
   "outputs": [],
   "source": [
    "from tqdm import tqdm\n",
    "def correct_top_k(outputs, targets, top_k=(1,5)):\n",
    "    \"\"\"\n",
    "    Find number of correct predictions for one batch.\n",
    "    Args:\n",
    "        outputs (torch.Tensor): Nx(class_number) Tensor containing logits.\n",
    "        targets (torch.Tensor): N Tensor containing ground truths.\n",
    "        top_k (Tuple): checking the ground truth is included in top-k prediction.\n",
    "    Returns:\n",
    "        List: List of number of top-1 and top-5 correct predictions.\n",
    "    \"\"\"\n",
    "    with torch.no_grad():\n",
    "        prediction = torch.argsort(outputs, dim=-1, descending=True)\n",
    "        result= []\n",
    "        for k in top_k:\n",
    "            correct_k = torch.sum((prediction[:, 0:k] == targets.unsqueeze(dim=-1)).any(dim=-1).float()).item() \n",
    "            result.append(correct_k)\n",
    "        return result\n",
    "def linear_test(net, data_loader, classifier, epoch, device):\n",
    "    # evaluate model:\n",
    "    net.eval() # for not update batchnorm\n",
    "    linear_loss = 0.0\n",
    "    num = 0\n",
    "    total_loss, total_correct_1, total_correct_5, total_num, test_bar = 0.0, 0.0, 0.0, 0, tqdm(data_loader)\n",
    "    with torch.no_grad():\n",
    "        for data_tuple in test_bar:\n",
    "            data, target = [t.to(device) for t in data_tuple]\n",
    "\n",
    "            # Forward prop of the model with single augmented batch\n",
    "            output = net(data)\n",
    "\n",
    "            # Logits by classifier\n",
    "            if classifier is not None:  #else net is already a classifier\n",
    "                output = classifier(output) \n",
    "\n",
    "            # Calculate Cross Entropy Loss for batch\n",
    "            linear_loss = F.cross_entropy(output, target)\n",
    "            \n",
    "            # Batchsize for loss and accuracy\n",
    "            num = data.size(0)\n",
    "            total_num += num \n",
    "            \n",
    "            # Accumulating loss \n",
    "            total_loss += linear_loss.item() * num \n",
    "            # Accumulating number of correct predictions \n",
    "            correct_top_1, correct_top_5 = correct_top_k(output, target, top_k=(1,5))    \n",
    "            total_correct_1 += correct_top_1\n",
    "            total_correct_5 += correct_top_5\n",
    "\n",
    "            test_bar.set_description('Lin.Test Epoch: [{}] Loss: {:.4f} ACC@1: {:.2f}% ACC@5: {:.2f}% '\n",
    "                                     .format(epoch,  total_loss / total_num,\n",
    "                                             total_correct_1 / total_num * 100, total_correct_5 / total_num * 100\n",
    "                                             ))\n",
    "        acc_1 = total_correct_1/total_num*100\n",
    "        acc_5 = total_correct_5/total_num*100\n",
    "        wandb.log({\" Linear Layer Test Loss \": linear_loss / total_num, \" Epoch \": epoch})\n",
    "        wandb.log({\" Linear Layer Test - Acc\": acc_1, \" Epoch \": epoch})\n",
    "    return total_loss / total_num, acc_1 , acc_5 "
   ]
  },
  {
   "cell_type": "code",
   "execution_count": 17,
   "metadata": {},
   "outputs": [],
   "source": [
    "def prediction_table(net, data_loader, classifier, device):\n",
    "    # evaluate model:\n",
    "    net.eval() # for not update batchnorm\n",
    "    res = np.zeros((100,100), dtype=np.int8)\n",
    "    with torch.no_grad():\n",
    "        for data_tuple in tqdm(data_loader):\n",
    "            data, target = [t.to(device) for t in data_tuple]\n",
    "            # Forward prop of the model with single augmented batch\n",
    "            output = net(data)\n",
    "            # Logits by classifier\n",
    "            if classifier is not None:  #else net is already a classifier\n",
    "                output = classifier(output) \n",
    "\n",
    "            prediction = torch.argsort(output, dim=-1, descending=True)\n",
    "            prediction = prediction[:,0]\n",
    "            print(prediction.shape)\n",
    "\n",
    "            for i, t in enumerate(target):\n",
    "                res[t][prediction[i]] = res[t][prediction[i]] + 1\n",
    "    return res"
   ]
  },
  {
   "cell_type": "code",
   "execution_count": 21,
   "metadata": {},
   "outputs": [
    {
     "name": "stderr",
     "output_type": "stream",
     "text": [
      "  5%|▌         | 1/20 [00:01<00:21,  1.11s/it]"
     ]
    },
    {
     "name": "stdout",
     "output_type": "stream",
     "text": [
      "torch.Size([512])\n",
      "torch.Size([512])\n",
      "torch.Size([512])\n"
     ]
    },
    {
     "name": "stderr",
     "output_type": "stream",
     "text": [
      " 25%|██▌       | 5/20 [00:01<00:03,  4.51it/s]"
     ]
    },
    {
     "name": "stdout",
     "output_type": "stream",
     "text": [
      "torch.Size([512])\n",
      "torch.Size([512])\n",
      "torch.Size([512])\n"
     ]
    },
    {
     "name": "stderr",
     "output_type": "stream",
     "text": [
      " 40%|████      | 8/20 [00:01<00:01,  6.53it/s]"
     ]
    },
    {
     "name": "stdout",
     "output_type": "stream",
     "text": [
      "torch.Size([512])\n",
      "torch.Size([512])\n",
      "torch.Size([512])\n"
     ]
    },
    {
     "name": "stderr",
     "output_type": "stream",
     "text": [
      " 55%|█████▌    | 11/20 [00:02<00:01,  8.41it/s]"
     ]
    },
    {
     "name": "stdout",
     "output_type": "stream",
     "text": [
      "torch.Size([512])\n",
      "torch.Size([512])\n",
      "torch.Size([512])\n"
     ]
    },
    {
     "name": "stderr",
     "output_type": "stream",
     "text": [
      " 65%|██████▌   | 13/20 [00:02<00:00,  9.30it/s]"
     ]
    },
    {
     "name": "stdout",
     "output_type": "stream",
     "text": [
      "torch.Size([512])\n",
      "torch.Size([512])\n",
      "torch.Size([512])\n"
     ]
    },
    {
     "name": "stderr",
     "output_type": "stream",
     "text": [
      " 85%|████████▌ | 17/20 [00:02<00:00, 10.43it/s]"
     ]
    },
    {
     "name": "stdout",
     "output_type": "stream",
     "text": [
      "torch.Size([512])\n",
      "torch.Size([512])\n",
      "torch.Size([512])\n"
     ]
    },
    {
     "name": "stderr",
     "output_type": "stream",
     "text": [
      " 95%|█████████▌| 19/20 [00:02<00:00, 10.76it/s]"
     ]
    },
    {
     "name": "stdout",
     "output_type": "stream",
     "text": [
      "torch.Size([512])\n",
      "torch.Size([272])\n"
     ]
    },
    {
     "name": "stderr",
     "output_type": "stream",
     "text": [
      "100%|██████████| 20/20 [00:02<00:00,  6.71it/s]\n"
     ]
    }
   ],
   "source": [
    "res = prediction_table(model,test_data_loaders_all[0],classifier,device)"
   ]
  },
  {
   "cell_type": "code",
   "execution_count": 33,
   "metadata": {},
   "outputs": [],
   "source": [
    "dict = {}\n",
    "preds = np.argsort(res, axis=1)[:, ::-1]\n",
    "for i in range(100):\n",
    "    dict[i] = preds[i][1]"
   ]
  },
  {
   "cell_type": "code",
   "execution_count": 44,
   "metadata": {},
   "outputs": [
    {
     "name": "stdout",
     "output_type": "stream",
     "text": [
      "(3, task 0, pred 6) (21, task 0, pred 4)\n",
      "(5, task 0, pred 9) (20, task 0, pred 4)\n",
      "(7, task 0, pred 9) (24, task 0, pred 5)\n",
      "(8, task 0, pred 7) (48, task 1, pred 8) ------\n",
      "(9, task 0, pred 5) (40, task 1, pred 6) ------\n",
      "(10, task 0, pred 10) (61, task 2, pred 11) ------\n",
      "(13, task 0, pred 16) (81, task 3, pred 13) ------\n",
      "(20, task 0, pred 4) (5, task 0, pred 9)\n",
      "(21, task 0, pred 4) (3, task 0, pred 6)\n",
      "(24, task 0, pred 5) (7, task 0, pred 9)\n",
      "(26, task 1, pred 5) (45, task 1, pred 7)\n",
      "(30, task 1, pred 16) (73, task 2, pred 6) ------\n",
      "(40, task 1, pred 6) (9, task 0, pred 5) ------\n",
      "(42, task 1, pred 5) (43, task 1, pred 5)\n",
      "(43, task 1, pred 5) (42, task 1, pred 5)\n",
      "(45, task 1, pred 7) (26, task 1, pred 5)\n",
      "(46, task 1, pred 14) (98, task 3, pred 12) ------\n",
      "(47, task 1, pred 17) (52, task 2, pred 19) ------\n",
      "(48, task 1, pred 8) (8, task 0, pred 7) ------\n",
      "(50, task 2, pred 9) (74, task 2, pred 10)\n",
      "(52, task 2, pred 19) (47, task 1, pred 17) ------\n",
      "(55, task 2, pred 9) (72, task 2, pred 6)\n",
      "(60, task 2, pred 7) (71, task 2, pred 8)\n",
      "(61, task 2, pred 11) (10, task 0, pred 10) ------\n",
      "(71, task 2, pred 8) (60, task 2, pred 7)\n",
      "(72, task 2, pred 6) (55, task 2, pred 9)\n",
      "(73, task 2, pred 6) (30, task 1, pred 16) ------\n",
      "(74, task 2, pred 10) (50, task 2, pred 9)\n",
      "(78, task 3, pred 8) (99, task 3, pred 6)\n",
      "(81, task 3, pred 13) (13, task 0, pred 16) ------\n",
      "(98, task 3, pred 12) (46, task 1, pred 14) ------\n",
      "(99, task 3, pred 6) (78, task 3, pred 8)\n"
     ]
    },
    {
     "data": {
      "text/plain": [
       "32"
      ]
     },
     "execution_count": 44,
     "metadata": {},
     "output_type": "execute_result"
    }
   ],
   "source": [
    "count = 0\n",
    "count_pred = np.sort(res, axis=1)[:, ::-1]\n",
    "for i in range(100):\n",
    "    if i == dict[dict[i]]:\n",
    "        if i//25 == dict[i]//25:\n",
    "            print(f'({i}, task {i//25}, pred {res[i][dict[i]]}) ({dict[i]}, task {dict[i]//25}, pred {res[dict[i]][i]})')\n",
    "        else:\n",
    "            print(f'({i}, task {i//25}, pred {res[i][dict[i]]}) ({dict[i]}, task {dict[i]//25}, pred {res[dict[i]][i]}) ------')\n",
    "        count+=1\n",
    "count"
   ]
  },
  {
   "cell_type": "code",
   "execution_count": 101,
   "metadata": {},
   "outputs": [],
   "source": [
    "def davies_bouldin(net, data_loader, device):\n",
    "    # evaluate model:\n",
    "    net.eval() # for not update batchnorm\n",
    "    res = {}\n",
    "    for i in range(100):\n",
    "        res[i] = []\n",
    "    with torch.no_grad():\n",
    "        for data_tuple in tqdm(data_loader):\n",
    "            data, target = [t.to(device) for t in data_tuple]\n",
    "            # Forward prop of the model with single augmented batch\n",
    "            output = net(data)\n",
    "            for i, t in enumerate(target):\n",
    "                res[int(t)].append(output[i].numpy()) \n",
    "    return res"
   ]
  },
  {
   "cell_type": "code",
   "execution_count": 102,
   "metadata": {},
   "outputs": [
    {
     "name": "stderr",
     "output_type": "stream",
     "text": [
      "100%|██████████| 20/20 [00:29<00:00,  1.48s/it]\n"
     ]
    }
   ],
   "source": [
    "res = davies_bouldin(model,test_data_loaders_all[0],device)"
   ]
  },
  {
   "cell_type": "code",
   "execution_count": 106,
   "metadata": {},
   "outputs": [],
   "source": [
    "mean_arr = []\n",
    "dist_arr = []\n",
    "for i in range(100):\n",
    "    mean_arr.append(np.mean(np.array(res[i]), axis=0))\n",
    "    dist_arr.append(np.linalg.norm((np.array(res[i])-mean_arr[i]), axis=1))\n",
    "mean_arr=np.array(mean_arr)\n",
    "dist_arr=np.array(dist_arr)"
   ]
  },
  {
   "cell_type": "code",
   "execution_count": 107,
   "metadata": {},
   "outputs": [
    {
     "name": "stderr",
     "output_type": "stream",
     "text": [
      "/home/duygu/anaconda3/envs/fedml_academic/lib/python3.7/site-packages/ipykernel_launcher.py:10: RuntimeWarning: divide by zero encountered in float_scalars\n",
      "  # Remove the CWD from sys.path while we load stuff.\n",
      "/home/duygu/anaconda3/envs/fedml_academic/lib/python3.7/site-packages/ipykernel_launcher.py:12: RuntimeWarning: divide by zero encountered in float_scalars\n",
      "  if sys.path[0] == \"\":\n"
     ]
    }
   ],
   "source": [
    "center_dists = euclidean_distances(mean_arr,mean_arr)\n",
    "cluster_radius = np.mean(dist_arr, axis=1)\n",
    "# cluster_radius = np.quantile(dist_arr, 0.90, axis=1)\n",
    "cluster_scores = np.zeros((100,100))\n",
    "all_scores = []\n",
    "for i in range(100):\n",
    "    for j in range(i+1, 100):\n",
    "        if i == j:\n",
    "            continue\n",
    "        cluster_scores[i][j] = (cluster_radius[i]+cluster_radius[j])/center_dists[i][j]\n",
    "        if j > i:\n",
    "            all_scores.append((cluster_radius[i]+cluster_radius[j])/center_dists[i][j])\n"
   ]
  },
  {
   "cell_type": "code",
   "execution_count": 92,
   "metadata": {},
   "outputs": [
    {
     "data": {
      "image/png": "[encoded data removed]",
      "text/plain": [
       "<Figure size 640x480 with 1 Axes>"
      ]
     },
     "metadata": {},
     "output_type": "display_data"
    }
   ],
   "source": [
    "plt.hist(np.max(cluster_scores, axis=1))\n",
    "plt.show()"
   ]
  },
  {
   "cell_type": "code",
   "execution_count": 93,
   "metadata": {},
   "outputs": [
    {
     "data": {
      "image/png": "[encoded data removed]",
      "text/plain": [
       "<Figure size 640x480 with 1 Axes>"
      ]
     },
     "metadata": {},
     "output_type": "display_data"
    }
   ],
   "source": [
    "plt.hist(all_scores)\n",
    "plt.show()"
   ]
  },
  {
   "cell_type": "code",
   "execution_count": 111,
   "metadata": {},
   "outputs": [
    {
     "name": "stderr",
     "output_type": "stream",
     "text": [
      "100%|██████████| 20/20 [00:27<00:00,  1.39s/it]\n"
     ]
    }
   ],
   "source": [
    "res = davies_bouldin(model,test_data_loaders_all[0],device)\n",
    "for i in range(100):\n",
    "    res[i] = np.array(res[1])/np.expand_dims(np.linalg.norm(np.array(res[1]), axis=1), axis=1)"
   ]
  },
  {
   "cell_type": "code",
   "execution_count": 114,
   "metadata": {},
   "outputs": [
    {
     "data": {
      "text/plain": [
       "(512, 1)"
      ]
     },
     "execution_count": 114,
     "metadata": {},
     "output_type": "execute_result"
    }
   ],
   "source": [
    "mean_arr[i].reshape(-1, 1).shape"
   ]
  },
  {
   "cell_type": "code",
   "execution_count": 124,
   "metadata": {},
   "outputs": [],
   "source": [
    "mean_arr = []\n",
    "dist_arr = []\n",
    "for i in range(100):\n",
    "    mean_arr.append(np.mean(np.array(res[i]), axis=0)/np.linalg.norm(np.mean(np.array(res[i]), axis=0)))\n",
    "    dist_arr.append(cosine_similarity(np.array(res[i]),mean_arr[i].reshape(1, -1)).squeeze())\n",
    "mean_arr=np.array(mean_arr)\n",
    "dist_arr=np.array(dist_arr)"
   ]
  },
  {
   "cell_type": "code",
   "execution_count": 128,
   "metadata": {},
   "outputs": [],
   "source": [
    "center_dists = cosine_similarity(mean_arr,mean_arr)\n",
    "# cluster_radius = np.mean(dist_arr, axis=1)\n",
    "cluster_radius = np.quantile(dist_arr, 0.90, axis=1)\n",
    "cluster_scores = np.zeros((100,100))\n",
    "all_scores = []\n",
    "for i in range(100):\n",
    "    for j in range(i+1, 100):\n",
    "        if i == j:\n",
    "            continue\n",
    "        cluster_scores[i][j] = (cluster_radius[i]+cluster_radius[j])/center_dists[i][j]\n",
    "        if j > i:\n",
    "            all_scores.append((cluster_radius[i]+cluster_radius[j])/center_dists[i][j])\n"
   ]
  },
  {
   "cell_type": "code",
   "execution_count": 129,
   "metadata": {},
   "outputs": [
    {
     "data": {
      "image/png": "[encoded data removed]",
      "text/plain": [
       "<Figure size 640x480 with 1 Axes>"
      ]
     },
     "metadata": {},
     "output_type": "display_data"
    }
   ],
   "source": [
    "plt.hist(np.max(cluster_scores, axis=1))\n",
    "plt.show()"
   ]
  },
  {
   "cell_type": "code",
   "execution_count": 130,
   "metadata": {},
   "outputs": [
    {
     "data": {
      "image/png": "[encoded data removed]",
      "text/plain": [
       "<Figure size 640x480 with 1 Axes>"
      ]
     },
     "metadata": {},
     "output_type": "display_data"
    },
    {
     "ename": "",
     "evalue": "",
     "output_type": "error",
     "traceback": [
      "\u001b[1;31mThe Kernel crashed while executing code in the the current cell or a previous cell. Please review the code in the cell(s) to identify a possible cause of the failure. Click <a href='https://aka.ms/vscodeJupyterKernelCrash'>here</a> for more info. View Jupyter <a href='command:jupyter.viewOutput'>log</a> for further details."
     ]
    }
   ],
   "source": [
    "plt.hist(all_scores)\n",
    "plt.show()"
   ]
  },
  {
   "cell_type": "code",
   "execution_count": null,
   "metadata": {},
   "outputs": [],
   "source": []
  }
 ],
 "metadata": {
  "kernelspec": {
   "display_name": "fedml_academic",
   "language": "python",
   "name": "fedml_academic"
  },
  "language_info": {
   "codemirror_mode": {
    "name": "ipython",
    "version": 3
   },
   "file_extension": ".py",
   "mimetype": "text/x-python",
   "name": "python",
   "nbconvert_exporter": "python",
   "pygments_lexer": "ipython3",
   "version": "3.7.13"
  },
  "orig_nbformat": 4
 },
 "nbformat": 4,
 "nbformat_minor": 2
}
